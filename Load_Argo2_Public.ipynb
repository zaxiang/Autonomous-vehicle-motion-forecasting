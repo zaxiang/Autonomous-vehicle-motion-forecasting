{
 "cells": [
  {
   "cell_type": "markdown",
   "metadata": {},
   "source": [
    "# CSE151B Project Milestone Code"
   ]
  },
  {
   "cell_type": "markdown",
   "metadata": {},
   "source": [
    "## Install the package dependencies before running this notebook"
   ]
  },
  {
   "cell_type": "code",
   "execution_count": 205,
   "metadata": {},
   "outputs": [
    {
     "data": {
      "text/plain": [
       "'\\n    number of trajectories in each city\\n    # austin --  train: 43041 test: 6325 \\n    # miami -- train: 55029 test:7971\\n    # pittsburgh -- train: 43544 test: 6361\\n    # dearborn -- train: 24465 test: 3671\\n    # washington-dc -- train: 25744 test: 3829\\n    # palo-alto -- train:  11993 test:1686\\n\\n    trajectories sampled at 10HZ rate, input 5 seconds, output 6 seconds\\n    \\n'"
      ]
     },
     "execution_count": 205,
     "metadata": {},
     "output_type": "execute_result"
    }
   ],
   "source": [
    "import torch\n",
    "from torch.utils.data import Dataset, DataLoader\n",
    "import os, os.path \n",
    "import numpy \n",
    "import pickle\n",
    "from glob import glob\n",
    "import pandas as pd\n",
    "\n",
    "\"\"\"\n",
    "    number of trajectories in each city\n",
    "    # austin --  train: 43041 test: 6325 \n",
    "    # miami -- train: 55029 test:7971\n",
    "    # pittsburgh -- train: 43544 test: 6361\n",
    "    # dearborn -- train: 24465 test: 3671\n",
    "    # washington-dc -- train: 25744 test: 3829\n",
    "    # palo-alto -- train:  11993 test:1686\n",
    "\n",
    "    trajectories sampled at 10HZ rate, input 5 seconds, output 6 seconds\n",
    "    \n",
    "\"\"\""
   ]
  },
  {
   "cell_type": "markdown",
   "metadata": {},
   "source": [
    "## Create a Torch.Dataset class for the training dataset AND  Create a DataLoader class for training"
   ]
  },
  {
   "cell_type": "code",
   "execution_count": 440,
   "metadata": {},
   "outputs": [],
   "source": [
    "from glob import glob\n",
    "import pickle\n",
    "import numpy as np\n",
    "from sklearn.preprocessing import normalize \n",
    "\n",
    "ROOT_PATH = \"./argo2/\"\n",
    "\n",
    "cities = [\"austin\", \"miami\", \"pittsburgh\", \"dearborn\", \"washington-dc\", \"palo-alto\"]\n",
    "splits = [\"train\", \"test\"]\n",
    "\n",
    "def get_city_trajectories(city=\"palo-alto\", split=\"train\", normalized=False):\n",
    "#     f_in = ROOT_PATH + split + \"/\" + city + \"_inputs\"\n",
    "#     inputs = pickle.load(open(f_in, \"rb\"))\n",
    "#     inputs = np.asarray(inputs)\n",
    "    \n",
    "    outputs = None\n",
    "    \n",
    "#     if split==\"train\":\n",
    "#         f_out = ROOT_PATH + split + \"/\" + city + \"_outputs\"\n",
    "#         outputs = pickle.load(open(f_out, \"rb\"))\n",
    "#         outputs = np.asarray(outputs)\n",
    "\n",
    "#     return inputs, outputs\n",
    "\n",
    "    if split==\"train\":\n",
    "        f_in = ROOT_PATH + split + \"/\" + city + \"_inputs\"\n",
    "        inputs = pickle.load(open(f_in, \"rb\"))\n",
    "        n = len(inputs)\n",
    "        inputs = np.asarray(inputs)[:int(n * 0.8)]\n",
    "\n",
    "        f_out = ROOT_PATH + split + \"/\" + city + \"_outputs\"\n",
    "        outputs = pickle.load(open(f_out, \"rb\"))\n",
    "        outputs = np.asarray(outputs)[:int(n * 0.8)]\n",
    "        \n",
    "    elif split == 'val':\n",
    "        f_in = ROOT_PATH + 'train' + \"/\" + city + \"_inputs\"\n",
    "        inputs = pickle.load(open(f_in, \"rb\"))\n",
    "        n = len(inputs)\n",
    "        inputs = np.asarray(inputs)[int(n * 0.8):]\n",
    "        \n",
    "        f_out = ROOT_PATH + 'train' + \"/\" + city + \"_outputs\"\n",
    "        outputs = pickle.load(open(f_out, \"rb\"))\n",
    "        outputs = np.asarray(outputs)[int(n * 0.8):]\n",
    "    \n",
    "    else:\n",
    "        f_in = ROOT_PATH + split + \"/\" + city + \"_inputs\"\n",
    "        inputs = pickle.load(open(f_in, \"rb\"))\n",
    "        n = len(inputs)\n",
    "        inputs = np.asarray(inputs)\n",
    "    \n",
    "    if normalized:\n",
    "        \n",
    "        mean_x = np.mean(inputs[:, :, 0])\n",
    "        inputs[:, :, 0] = inputs[:, :, 0] / mean_x\n",
    "        mean_y = np.mean(inputs[:, :, 1])\n",
    "        inputs[:, :, 1] = inputs[:, :, 1] / mean_y\n",
    "        \n",
    "        #outputs = normalize(inputs, axis=1, norm='l1')\n",
    "\n",
    "    return inputs, outputs\n",
    "\n",
    "class ArgoverseDataset(Dataset):\n",
    "    \"\"\"Dataset class for Argoverse\"\"\"\n",
    "    def __init__(self, split:str, transform=None):\n",
    "        super(ArgoverseDataset, self).__init__()\n",
    "        self.transform = transform\n",
    "\n",
    "        self.inputs, self.outputs = [], []\n",
    "        \n",
    "        city_one_hot = {\"austin\": [1, 0, 0, 0, 0, 0], \"miami\": [0, 1, 0, 0, 0, 0], \\\n",
    "                        \"pittsburgh\": [0, 0, 1, 0, 0, 0], \"dearborn\": [0, 0, 0, 1, 0, 0], \\\n",
    "                        \"washington-dc\": [0, 0, 0, 0, 1, 0], \"palo-alto\": [0, 0, 0, 0, 0, 1]}\n",
    "        \n",
    "        for city in [\"austin\", \"miami\", \"pittsburgh\", \"dearborn\", \"washington-dc\", \"palo-alto\"]:\n",
    "            \n",
    "            inp, out = get_city_trajectories(city=city, split=split, normalized=False)\n",
    "            \n",
    "            inp = inp.tolist()\n",
    "            for i in inp: #one hot encoding for each city\n",
    "                for j in i:\n",
    "                    j.extend(city_one_hot[city])\n",
    "            self.inputs.extend(inp)\n",
    "                    \n",
    "            if out is not None:\n",
    "                out = out.tolist()\n",
    "                self.outputs.extend(out)\n",
    "            else:\n",
    "                self.outputs = None\n",
    "                \n",
    "        self.inputs = np.array(self.inputs)\n",
    "        if self.outputs is not None:\n",
    "            self.outputs = np.array(self.outputs)\n",
    "\n",
    "    def __len__(self):\n",
    "        return len(self.inputs)\n",
    "\n",
    "    def __getitem__(self, idx):\n",
    "\n",
    "        if self.outputs is None:\n",
    "            data = self.inputs[idx]\n",
    "        else:\n",
    "            data = (self.inputs[idx], self.outputs[idx])\n",
    "        \n",
    "        if self.transform:\n",
    "            data = self.transform(data)\n",
    "\n",
    "        return data"
   ]
  },
  {
   "cell_type": "code",
   "execution_count": 415,
   "metadata": {},
   "outputs": [],
   "source": [
    "# intialize a dataset on all just for visualization purpose:\\  (around 10 mins)\n",
    "train_dataset  = ArgoverseDataset(split = 'train')\n",
    "val_dataset = ArgoverseDataset(split = 'val')"
   ]
  },
  {
   "cell_type": "code",
   "execution_count": 425,
   "metadata": {},
   "outputs": [],
   "source": [
    "## Create a DataLoader class for training\n",
    "batch_sz = 4  # batch size \n",
    "train_loader = DataLoader(train_dataset,batch_size=batch_sz)"
   ]
  },
  {
   "cell_type": "markdown",
   "metadata": {},
   "source": [
    "## Sample a batch of data and visualize "
   ]
  },
  {
   "cell_type": "code",
   "execution_count": 426,
   "metadata": {},
   "outputs": [
    {
     "data": {
      "image/png": "[encoded data removed]",
      "text/plain": [
       "<Figure size 1080x216 with 4 Axes>"
      ]
     },
     "metadata": {},
     "output_type": "display_data"
    }
   ],
   "source": [
    "import matplotlib.pyplot as plt\n",
    "import random\n",
    "\n",
    "\n",
    "def show_sample_batch(sample_batch):\n",
    "    \"\"\"visualize the trajectory for a batch of samples\"\"\"\n",
    "    inp, out = sample_batch\n",
    "    batch_sz = inp.size(0)\n",
    "    agent_sz = inp.size(1)\n",
    "    \n",
    "    fig, axs = plt.subplots(1,batch_sz, figsize=(15, 3), facecolor='w', edgecolor='k')\n",
    "    fig.subplots_adjust(hspace = .5, wspace=.001)\n",
    "    axs = axs.ravel()   \n",
    "    for i in range(batch_sz):\n",
    "        axs[i].xaxis.set_ticks([])\n",
    "        axs[i].yaxis.set_ticks([])\n",
    "        \n",
    "        # first two feature dimensions are (x,y) positions\n",
    "        axs[i].scatter(inp[i,:,0], inp[i,:,1], color='pink')\n",
    "        axs[i].scatter(out[i,:,0], out[i,:,1], color='green')\n",
    "\n",
    "\n",
    "\n",
    "for i_batch, sample_batch in enumerate(train_loader):\n",
    "    inp, out = sample_batch\n",
    "    \"\"\"\n",
    "    TODO:\n",
    "      implement your Deep learning model\n",
    "      implement training routine\n",
    "    \"\"\"\n",
    "    show_sample_batch(sample_batch)\n",
    "    \n",
    "    break"
   ]
  },
  {
   "cell_type": "markdown",
   "metadata": {},
   "source": [
    "# LINEAR Model (4 linear layers for encoder and decoder)"
   ]
  },
  {
   "cell_type": "code",
   "execution_count": 427,
   "metadata": {},
   "outputs": [],
   "source": [
    "from torch import nn, optim\n",
    "\n",
    "class get_output(nn.Module):\n",
    "    def forward(self, x):\n",
    "        out, hidden = x\n",
    "        return hidden\n",
    "    \n",
    "class Pred(nn.Module):\n",
    "\n",
    "    def __init__(self):\n",
    "        super().__init__()\n",
    "        \n",
    "        self.encoder = nn.Sequential(\n",
    "\n",
    "#             nn.RNN(100, hidden_size=112, batch_first=True, nonlinearity='relu'),\n",
    "#             get_output()\n",
    "            \n",
    "            nn.Linear(400, 64),\n",
    "            nn.ReLU(),\n",
    "            nn.Linear(64, 32),\n",
    "            nn.ReLU(),\n",
    "            nn.Linear(32, 16),\n",
    "            nn.ReLU(),\n",
    "            nn.Linear(16, 16)\n",
    "            \n",
    "#             nn.Linear(16, 16)\n",
    "        )\n",
    "        \n",
    "\n",
    "        self.decoder = nn.Sequential(\n",
    "\n",
    "#             nn.RNN(112, hidden_size=128, batch_first=True, nonlinearity='relu'),\n",
    "#             get_output(),\n",
    "#             nn.Linear(128, 120)\n",
    "            \n",
    "            nn.Linear(16, 32),\n",
    "            nn.ReLU(),\n",
    "            nn.Linear(32, 64),\n",
    "            nn.ReLU(),\n",
    "            nn.Linear(64, 120),\n",
    "            nn.ReLU(),\n",
    "            nn.Linear(120, 120)\n",
    "        )\n",
    "        \n",
    "    def forward(self, x):\n",
    "        x = x.reshape(-1, 400).float()\n",
    "        x = self.encoder(x)\n",
    "        x = self.decoder(x)\n",
    "        x = x.reshape(-1, 60, 2)\n",
    "        return x"
   ]
  },
  {
   "cell_type": "code",
   "execution_count": 428,
   "metadata": {},
   "outputs": [],
   "source": [
    "pred = Pred()\n",
    "opt = optim.Adam(pred.parameters(), lr=1e-3)"
   ]
  },
  {
   "cell_type": "markdown",
   "metadata": {},
   "source": [
    "### prepare the dataframe for submission"
   ]
  },
  {
   "cell_type": "code",
   "execution_count": 429,
   "metadata": {},
   "outputs": [],
   "source": [
    "submission = pd.read_csv('./argo2/sample_submission.csv')\n",
    "submission = submission.set_index(\"ID\")"
   ]
  },
  {
   "cell_type": "code",
   "execution_count": 430,
   "metadata": {},
   "outputs": [
    {
     "data": {
      "text/html": [
       "<div>\n",
       "<style scoped>\n",
       "    .dataframe tbody tr th:only-of-type {\n",
       "        vertical-align: middle;\n",
       "    }\n",
       "\n",
       "    .dataframe tbody tr th {\n",
       "        vertical-align: top;\n",
       "    }\n",
       "\n",
       "    .dataframe thead th {\n",
       "        text-align: right;\n",
       "    }\n",
       "</style>\n",
       "<table border=\"1\" class=\"dataframe\">\n",
       "  <thead>\n",
       "    <tr style=\"text-align: right;\">\n",
       "      <th></th>\n",
       "      <th>v0</th>\n",
       "      <th>v1</th>\n",
       "      <th>v2</th>\n",
       "      <th>v3</th>\n",
       "      <th>v4</th>\n",
       "      <th>v5</th>\n",
       "      <th>v6</th>\n",
       "      <th>v7</th>\n",
       "      <th>v8</th>\n",
       "      <th>v9</th>\n",
       "      <th>...</th>\n",
       "      <th>v110</th>\n",
       "      <th>v111</th>\n",
       "      <th>v112</th>\n",
       "      <th>v113</th>\n",
       "      <th>v114</th>\n",
       "      <th>v115</th>\n",
       "      <th>v116</th>\n",
       "      <th>v117</th>\n",
       "      <th>v118</th>\n",
       "      <th>v119</th>\n",
       "    </tr>\n",
       "    <tr>\n",
       "      <th>ID</th>\n",
       "      <th></th>\n",
       "      <th></th>\n",
       "      <th></th>\n",
       "      <th></th>\n",
       "      <th></th>\n",
       "      <th></th>\n",
       "      <th></th>\n",
       "      <th></th>\n",
       "      <th></th>\n",
       "      <th></th>\n",
       "      <th></th>\n",
       "      <th></th>\n",
       "      <th></th>\n",
       "      <th></th>\n",
       "      <th></th>\n",
       "      <th></th>\n",
       "      <th></th>\n",
       "      <th></th>\n",
       "      <th></th>\n",
       "      <th></th>\n",
       "      <th></th>\n",
       "    </tr>\n",
       "  </thead>\n",
       "  <tbody>\n",
       "    <tr>\n",
       "      <th>0_austin</th>\n",
       "      <td>0</td>\n",
       "      <td>0</td>\n",
       "      <td>0</td>\n",
       "      <td>0</td>\n",
       "      <td>0</td>\n",
       "      <td>0</td>\n",
       "      <td>0</td>\n",
       "      <td>0</td>\n",
       "      <td>0</td>\n",
       "      <td>0</td>\n",
       "      <td>...</td>\n",
       "      <td>0</td>\n",
       "      <td>0</td>\n",
       "      <td>0</td>\n",
       "      <td>0</td>\n",
       "      <td>0</td>\n",
       "      <td>0</td>\n",
       "      <td>0</td>\n",
       "      <td>0</td>\n",
       "      <td>0</td>\n",
       "      <td>0</td>\n",
       "    </tr>\n",
       "    <tr>\n",
       "      <th>1_austin</th>\n",
       "      <td>0</td>\n",
       "      <td>0</td>\n",
       "      <td>0</td>\n",
       "      <td>0</td>\n",
       "      <td>0</td>\n",
       "      <td>0</td>\n",
       "      <td>0</td>\n",
       "      <td>0</td>\n",
       "      <td>0</td>\n",
       "      <td>0</td>\n",
       "      <td>...</td>\n",
       "      <td>0</td>\n",
       "      <td>0</td>\n",
       "      <td>0</td>\n",
       "      <td>0</td>\n",
       "      <td>0</td>\n",
       "      <td>0</td>\n",
       "      <td>0</td>\n",
       "      <td>0</td>\n",
       "      <td>0</td>\n",
       "      <td>0</td>\n",
       "    </tr>\n",
       "    <tr>\n",
       "      <th>2_austin</th>\n",
       "      <td>0</td>\n",
       "      <td>0</td>\n",
       "      <td>0</td>\n",
       "      <td>0</td>\n",
       "      <td>0</td>\n",
       "      <td>0</td>\n",
       "      <td>0</td>\n",
       "      <td>0</td>\n",
       "      <td>0</td>\n",
       "      <td>0</td>\n",
       "      <td>...</td>\n",
       "      <td>0</td>\n",
       "      <td>0</td>\n",
       "      <td>0</td>\n",
       "      <td>0</td>\n",
       "      <td>0</td>\n",
       "      <td>0</td>\n",
       "      <td>0</td>\n",
       "      <td>0</td>\n",
       "      <td>0</td>\n",
       "      <td>0</td>\n",
       "    </tr>\n",
       "    <tr>\n",
       "      <th>3_austin</th>\n",
       "      <td>0</td>\n",
       "      <td>0</td>\n",
       "      <td>0</td>\n",
       "      <td>0</td>\n",
       "      <td>0</td>\n",
       "      <td>0</td>\n",
       "      <td>0</td>\n",
       "      <td>0</td>\n",
       "      <td>0</td>\n",
       "      <td>0</td>\n",
       "      <td>...</td>\n",
       "      <td>0</td>\n",
       "      <td>0</td>\n",
       "      <td>0</td>\n",
       "      <td>0</td>\n",
       "      <td>0</td>\n",
       "      <td>0</td>\n",
       "      <td>0</td>\n",
       "      <td>0</td>\n",
       "      <td>0</td>\n",
       "      <td>0</td>\n",
       "    </tr>\n",
       "    <tr>\n",
       "      <th>4_austin</th>\n",
       "      <td>0</td>\n",
       "      <td>0</td>\n",
       "      <td>0</td>\n",
       "      <td>0</td>\n",
       "      <td>0</td>\n",
       "      <td>0</td>\n",
       "      <td>0</td>\n",
       "      <td>0</td>\n",
       "      <td>0</td>\n",
       "      <td>0</td>\n",
       "      <td>...</td>\n",
       "      <td>0</td>\n",
       "      <td>0</td>\n",
       "      <td>0</td>\n",
       "      <td>0</td>\n",
       "      <td>0</td>\n",
       "      <td>0</td>\n",
       "      <td>0</td>\n",
       "      <td>0</td>\n",
       "      <td>0</td>\n",
       "      <td>0</td>\n",
       "    </tr>\n",
       "  </tbody>\n",
       "</table>\n",
       "<p>5 rows × 120 columns</p>\n",
       "</div>"
      ],
      "text/plain": [
       "          v0  v1  v2  v3  v4  v5  v6  v7  v8  v9  ...  v110  v111  v112  v113  \\\n",
       "ID                                                ...                           \n",
       "0_austin   0   0   0   0   0   0   0   0   0   0  ...     0     0     0     0   \n",
       "1_austin   0   0   0   0   0   0   0   0   0   0  ...     0     0     0     0   \n",
       "2_austin   0   0   0   0   0   0   0   0   0   0  ...     0     0     0     0   \n",
       "3_austin   0   0   0   0   0   0   0   0   0   0  ...     0     0     0     0   \n",
       "4_austin   0   0   0   0   0   0   0   0   0   0  ...     0     0     0     0   \n",
       "\n",
       "          v114  v115  v116  v117  v118  v119  \n",
       "ID                                            \n",
       "0_austin     0     0     0     0     0     0  \n",
       "1_austin     0     0     0     0     0     0  \n",
       "2_austin     0     0     0     0     0     0  \n",
       "3_austin     0     0     0     0     0     0  \n",
       "4_austin     0     0     0     0     0     0  \n",
       "\n",
       "[5 rows x 120 columns]"
      ]
     },
     "execution_count": 430,
     "metadata": {},
     "output_type": "execute_result"
    }
   ],
   "source": [
    "submission.head()"
   ]
  },
  {
   "cell_type": "markdown",
   "metadata": {},
   "source": [
    "# ONE Model for Each City:"
   ]
  },
  {
   "cell_type": "code",
   "execution_count": 431,
   "metadata": {},
   "outputs": [],
   "source": [
    "from collections import defaultdict\n",
    "\n",
    "def def_value():\n",
    "    return \"Not Present\"\n",
    "\n",
    "loss_cities = defaultdict(def_value)\n",
    "dic = defaultdict(def_value) #key is city, value is [ground truth out list, prediction list]\n",
    "\n",
    "def train_model_everything(train_dataset, val_dataset, train_loader):\n",
    "    # intialize a dataset (for each city)\n",
    "    #train_dataset_city  = ArgoverseDataset(city = city, split = \"train\") \n",
    "#      batch_sz = 4  # batch size \n",
    "#     train_loader_city = DataLoader(train_dataset_city, batch_size=batch_sz)\n",
    "    \n",
    "    \n",
    "    # intialize a dataset (for all) - did aready\n",
    "   \n",
    "    loss_lis = []\n",
    "    for epoch in range(10):\n",
    "\n",
    "        total_loss = 0\n",
    "        for i_batch, sample_batch in enumerate(train_loader):\n",
    "            inp, out = sample_batch\n",
    "            preds_city = pred(inp)\n",
    "            loss = ((preds_city - out) ** 2).sum()\n",
    "\n",
    "            opt.zero_grad()\n",
    "            loss.backward()\n",
    "            opt.step()\n",
    "\n",
    "            total_loss += loss.item()\n",
    "            loss_lis.append(loss.item())\n",
    "\n",
    "        print('epoch {} training loss: {}'.format(epoch, total_loss / (60 * len(train_dataset))))\n",
    "        loss_cities[city] = loss_lis\n",
    "       \n",
    "    \n",
    "    #TRAINING PREDICTION FOR ALL:\n",
    "    dic[city] = [[0], [0]]\n",
    "    batch_sz = 1  # batch size \n",
    "    train_loader_1 = DataLoader(train_dataset, batch_size=batch_sz)\n",
    "    \n",
    "    for i_batch, sample_batch in enumerate(train_loader_1):\n",
    "        inp, out = sample_batch\n",
    "        dic[city][0].append(out)\n",
    "        dic[city][1].append(pred(inp))\n",
    "    \n",
    "    \n",
    "    \n",
    "    #VALIDATION\n",
    "    \n",
    "    #print validation loss\n",
    "    val_loader = DataLoader(val_dataset,batch_size=batch_sz)\n",
    "\n",
    "    val_loss = 0\n",
    "    for i_batch, sample_batch in enumerate(val_loader):\n",
    "        inp, out = sample_batch\n",
    "        preds = pred(inp)\n",
    "        loss = ((preds - out) ** 2).sum()\n",
    "\n",
    "        val_loss += loss.item()\n",
    "    print('validation loss: {}'.format(val_loss / (60 * len(val_dataset))))\n",
    "    \n",
    "    \n",
    "    \n",
    "    #TESTING\n",
    "    \n",
    "    #Get the prediction and write to the dataFrame\n",
    "    test_dataset = ArgoverseDataset(split = \"test\")\n",
    "    batch_sz = 1  # batch size \n",
    "    test_loader = DataLoader(test_dataset,batch_size=batch_sz)\n",
    "    \n",
    "    preds = []\n",
    "    test_loss = 0\n",
    "    for i_batch, sample_batch in enumerate(test_loader):\n",
    "        inp = sample_batch\n",
    "        preds.append(pred(inp))\n",
    "        \n",
    "    #write to submission dataframe\n",
    "    for i, p in enumerate(preds):\n",
    "        new_p = p.reshape(-1, 120).float().tolist()[0]\n",
    "        submission.loc[str(i)+'_'+city] = new_p\n",
    "    \n",
    "    print() #print a new line to separate each city's model"
   ]
  },
  {
   "cell_type": "code",
   "execution_count": 432,
   "metadata": {},
   "outputs": [
    {
     "name": "stdout",
     "output_type": "stream",
     "text": [
      "epoch 0 training loss: 29228.929278728443\n",
      "epoch 1 training loss: 13798.900595905508\n",
      "epoch 2 training loss: 9135.367961615084\n",
      "epoch 3 training loss: 7235.681652365539\n",
      "epoch 4 training loss: 5959.367772236522\n",
      "epoch 5 training loss: 5367.99831812119\n",
      "epoch 6 training loss: 4311.235279415524\n",
      "epoch 7 training loss: 4404.250429806034\n",
      "epoch 8 training loss: 3310.4054351585\n",
      "epoch 9 training loss: 3148.764601363746\n",
      "validation loss: 2028.2194615384844\n"
     ]
    },
    {
     "ename": "AttributeError",
     "evalue": "'NoneType' object has no attribute 'tolist'",
     "output_type": "error",
     "traceback": [
      "\u001b[0;31m---------------------------------------------------------------------------\u001b[0m",
      "\u001b[0;31mAttributeError\u001b[0m                            Traceback (most recent call last)",
      "\u001b[0;32m<ipython-input-432-6c23f8d2c2d5>\u001b[0m in \u001b[0;36m<module>\u001b[0;34m\u001b[0m\n\u001b[1;32m      1\u001b[0m \u001b[0;31m#batch 4 epoch 10 with all data\u001b[0m\u001b[0;34m\u001b[0m\u001b[0;34m\u001b[0m\u001b[0;34m\u001b[0m\u001b[0m\n\u001b[0;32m----> 2\u001b[0;31m \u001b[0mtrain_model_everything\u001b[0m\u001b[0;34m(\u001b[0m\u001b[0mtrain_dataset\u001b[0m\u001b[0;34m,\u001b[0m \u001b[0mval_dataset\u001b[0m\u001b[0;34m,\u001b[0m \u001b[0mtrain_loader\u001b[0m\u001b[0;34m)\u001b[0m\u001b[0;34m\u001b[0m\u001b[0;34m\u001b[0m\u001b[0m\n\u001b[0m",
      "\u001b[0;32m<ipython-input-431-cdda53e2b2ff>\u001b[0m in \u001b[0;36mtrain_model_everything\u001b[0;34m(train_dataset, val_dataset, train_loader)\u001b[0m\n\u001b[1;32m     67\u001b[0m \u001b[0;34m\u001b[0m\u001b[0m\n\u001b[1;32m     68\u001b[0m     \u001b[0;31m#Get the prediction and write to the dataFrame\u001b[0m\u001b[0;34m\u001b[0m\u001b[0;34m\u001b[0m\u001b[0;34m\u001b[0m\u001b[0m\n\u001b[0;32m---> 69\u001b[0;31m     \u001b[0mtest_dataset\u001b[0m \u001b[0;34m=\u001b[0m \u001b[0mArgoverseDataset\u001b[0m\u001b[0;34m(\u001b[0m\u001b[0msplit\u001b[0m \u001b[0;34m=\u001b[0m \u001b[0;34m\"test\"\u001b[0m\u001b[0;34m)\u001b[0m\u001b[0;34m\u001b[0m\u001b[0;34m\u001b[0m\u001b[0m\n\u001b[0m\u001b[1;32m     70\u001b[0m     \u001b[0mbatch_sz\u001b[0m \u001b[0;34m=\u001b[0m \u001b[0;36m1\u001b[0m  \u001b[0;31m# batch size\u001b[0m\u001b[0;34m\u001b[0m\u001b[0;34m\u001b[0m\u001b[0m\n\u001b[1;32m     71\u001b[0m     \u001b[0mtest_loader\u001b[0m \u001b[0;34m=\u001b[0m \u001b[0mDataLoader\u001b[0m\u001b[0;34m(\u001b[0m\u001b[0mtest_dataset\u001b[0m\u001b[0;34m,\u001b[0m\u001b[0mbatch_size\u001b[0m\u001b[0;34m=\u001b[0m\u001b[0mbatch_sz\u001b[0m\u001b[0;34m)\u001b[0m\u001b[0;34m\u001b[0m\u001b[0;34m\u001b[0m\u001b[0m\n",
      "\u001b[0;32m<ipython-input-414-688d04115822>\u001b[0m in \u001b[0;36m__init__\u001b[0;34m(self, split, transform)\u001b[0m\n\u001b[1;32m     77\u001b[0m \u001b[0;34m\u001b[0m\u001b[0m\n\u001b[1;32m     78\u001b[0m             \u001b[0minp\u001b[0m \u001b[0;34m=\u001b[0m \u001b[0minp\u001b[0m\u001b[0;34m.\u001b[0m\u001b[0mtolist\u001b[0m\u001b[0;34m(\u001b[0m\u001b[0;34m)\u001b[0m\u001b[0;34m\u001b[0m\u001b[0;34m\u001b[0m\u001b[0m\n\u001b[0;32m---> 79\u001b[0;31m             \u001b[0mout\u001b[0m \u001b[0;34m=\u001b[0m \u001b[0mout\u001b[0m\u001b[0;34m.\u001b[0m\u001b[0mtolist\u001b[0m\u001b[0;34m(\u001b[0m\u001b[0;34m)\u001b[0m\u001b[0;34m\u001b[0m\u001b[0;34m\u001b[0m\u001b[0m\n\u001b[0m\u001b[1;32m     80\u001b[0m             \u001b[0;32mfor\u001b[0m \u001b[0mi\u001b[0m \u001b[0;32min\u001b[0m \u001b[0minp\u001b[0m\u001b[0;34m:\u001b[0m \u001b[0;31m#one hot encoding for each city\u001b[0m\u001b[0;34m\u001b[0m\u001b[0;34m\u001b[0m\u001b[0m\n\u001b[1;32m     81\u001b[0m                 \u001b[0;32mfor\u001b[0m \u001b[0mj\u001b[0m \u001b[0;32min\u001b[0m \u001b[0mi\u001b[0m\u001b[0;34m:\u001b[0m\u001b[0;34m\u001b[0m\u001b[0;34m\u001b[0m\u001b[0m\n",
      "\u001b[0;31mAttributeError\u001b[0m: 'NoneType' object has no attribute 'tolist'"
     ]
    }
   ],
   "source": [
    "#batch 4 epoch 10 with all data\n",
    "train_model_everything(train_dataset, val_dataset, train_loader)"
   ]
  },
  {
   "cell_type": "code",
   "execution_count": null,
   "metadata": {},
   "outputs": [],
   "source": [
    "#TESTING\n",
    "    \n",
    "#Get the prediction and write to the dataFrame\n",
    "test_dataset = ArgoverseDataset(split = \"test\")\n",
    "batch_sz = 1  # batch size \n",
    "test_loader = DataLoader(test_dataset,batch_size=batch_sz)\n",
    "    \n",
    "preds = []\n",
    "\n",
    "for i_batch, sample_batch in enumerate(test_loader):\n",
    "    inp = sample_batch\n",
    "    preds.append(pred(inp))\n",
    "        \n",
    "    #write to submission dataframe\n",
    "    for i, p in enumerate(preds):\n",
    "        new_p = p.reshape(-1, 120).float().tolist()[0]\n",
    "        submission.iloc[i] = new_p"
   ]
  },
  {
   "cell_type": "code",
   "execution_count": 338,
   "metadata": {},
   "outputs": [
    {
     "data": {
      "text/html": [
       "<div>\n",
       "<style scoped>\n",
       "    .dataframe tbody tr th:only-of-type {\n",
       "        vertical-align: middle;\n",
       "    }\n",
       "\n",
       "    .dataframe tbody tr th {\n",
       "        vertical-align: top;\n",
       "    }\n",
       "\n",
       "    .dataframe thead th {\n",
       "        text-align: right;\n",
       "    }\n",
       "</style>\n",
       "<table border=\"1\" class=\"dataframe\">\n",
       "  <thead>\n",
       "    <tr style=\"text-align: right;\">\n",
       "      <th></th>\n",
       "      <th>v0</th>\n",
       "      <th>v1</th>\n",
       "      <th>v2</th>\n",
       "      <th>v3</th>\n",
       "      <th>v4</th>\n",
       "      <th>v5</th>\n",
       "      <th>v6</th>\n",
       "      <th>v7</th>\n",
       "      <th>v8</th>\n",
       "      <th>v9</th>\n",
       "      <th>...</th>\n",
       "      <th>v110</th>\n",
       "      <th>v111</th>\n",
       "      <th>v112</th>\n",
       "      <th>v113</th>\n",
       "      <th>v114</th>\n",
       "      <th>v115</th>\n",
       "      <th>v116</th>\n",
       "      <th>v117</th>\n",
       "      <th>v118</th>\n",
       "      <th>v119</th>\n",
       "    </tr>\n",
       "    <tr>\n",
       "      <th>ID</th>\n",
       "      <th></th>\n",
       "      <th></th>\n",
       "      <th></th>\n",
       "      <th></th>\n",
       "      <th></th>\n",
       "      <th></th>\n",
       "      <th></th>\n",
       "      <th></th>\n",
       "      <th></th>\n",
       "      <th></th>\n",
       "      <th></th>\n",
       "      <th></th>\n",
       "      <th></th>\n",
       "      <th></th>\n",
       "      <th></th>\n",
       "      <th></th>\n",
       "      <th></th>\n",
       "      <th></th>\n",
       "      <th></th>\n",
       "      <th></th>\n",
       "      <th></th>\n",
       "    </tr>\n",
       "  </thead>\n",
       "  <tbody>\n",
       "    <tr>\n",
       "      <th>0_austin</th>\n",
       "      <td>-11.226071</td>\n",
       "      <td>-568.259033</td>\n",
       "      <td>-10.699904</td>\n",
       "      <td>-568.009460</td>\n",
       "      <td>-11.389357</td>\n",
       "      <td>-568.708313</td>\n",
       "      <td>-11.790574</td>\n",
       "      <td>-568.460327</td>\n",
       "      <td>-12.390487</td>\n",
       "      <td>-568.852783</td>\n",
       "      <td>...</td>\n",
       "      <td>-16.369585</td>\n",
       "      <td>-567.228699</td>\n",
       "      <td>-15.573964</td>\n",
       "      <td>-567.625916</td>\n",
       "      <td>-16.813704</td>\n",
       "      <td>-566.785950</td>\n",
       "      <td>-17.905413</td>\n",
       "      <td>-566.945190</td>\n",
       "      <td>-16.480963</td>\n",
       "      <td>-567.379700</td>\n",
       "    </tr>\n",
       "    <tr>\n",
       "      <th>1_austin</th>\n",
       "      <td>-345.785980</td>\n",
       "      <td>-8.251111</td>\n",
       "      <td>-342.146637</td>\n",
       "      <td>-7.716538</td>\n",
       "      <td>-342.032715</td>\n",
       "      <td>-8.993821</td>\n",
       "      <td>-341.930756</td>\n",
       "      <td>-10.368177</td>\n",
       "      <td>-343.027008</td>\n",
       "      <td>-7.900444</td>\n",
       "      <td>...</td>\n",
       "      <td>-343.404755</td>\n",
       "      <td>-11.397899</td>\n",
       "      <td>-346.625061</td>\n",
       "      <td>-9.949894</td>\n",
       "      <td>-344.180817</td>\n",
       "      <td>-9.206696</td>\n",
       "      <td>-342.258911</td>\n",
       "      <td>-10.060693</td>\n",
       "      <td>-347.077362</td>\n",
       "      <td>-9.816633</td>\n",
       "    </tr>\n",
       "    <tr>\n",
       "      <th>2_austin</th>\n",
       "      <td>54.778496</td>\n",
       "      <td>-249.124374</td>\n",
       "      <td>54.893967</td>\n",
       "      <td>-248.916183</td>\n",
       "      <td>54.628410</td>\n",
       "      <td>-249.160522</td>\n",
       "      <td>54.510002</td>\n",
       "      <td>-249.203308</td>\n",
       "      <td>54.312447</td>\n",
       "      <td>-249.288162</td>\n",
       "      <td>...</td>\n",
       "      <td>52.119141</td>\n",
       "      <td>-248.633530</td>\n",
       "      <td>52.471340</td>\n",
       "      <td>-248.856354</td>\n",
       "      <td>52.007442</td>\n",
       "      <td>-248.710358</td>\n",
       "      <td>51.704403</td>\n",
       "      <td>-248.723633</td>\n",
       "      <td>52.090199</td>\n",
       "      <td>-248.936340</td>\n",
       "    </tr>\n",
       "    <tr>\n",
       "      <th>3_austin</th>\n",
       "      <td>-127.204781</td>\n",
       "      <td>1837.148926</td>\n",
       "      <td>-128.300522</td>\n",
       "      <td>1835.108032</td>\n",
       "      <td>-125.282196</td>\n",
       "      <td>1835.854736</td>\n",
       "      <td>-127.836250</td>\n",
       "      <td>1833.134766</td>\n",
       "      <td>-127.269264</td>\n",
       "      <td>1834.062744</td>\n",
       "      <td>...</td>\n",
       "      <td>-119.982666</td>\n",
       "      <td>1810.755005</td>\n",
       "      <td>-120.955177</td>\n",
       "      <td>1814.664307</td>\n",
       "      <td>-120.179588</td>\n",
       "      <td>1815.951660</td>\n",
       "      <td>-121.549072</td>\n",
       "      <td>1811.739380</td>\n",
       "      <td>-121.060776</td>\n",
       "      <td>1812.621216</td>\n",
       "    </tr>\n",
       "    <tr>\n",
       "      <th>4_austin</th>\n",
       "      <td>1218.539307</td>\n",
       "      <td>-632.605530</td>\n",
       "      <td>1218.457764</td>\n",
       "      <td>-632.244568</td>\n",
       "      <td>1218.183960</td>\n",
       "      <td>-632.141479</td>\n",
       "      <td>1217.854858</td>\n",
       "      <td>-632.270081</td>\n",
       "      <td>1217.526489</td>\n",
       "      <td>-631.908020</td>\n",
       "      <td>...</td>\n",
       "      <td>1203.809692</td>\n",
       "      <td>-628.167542</td>\n",
       "      <td>1203.264404</td>\n",
       "      <td>-628.413269</td>\n",
       "      <td>1203.237793</td>\n",
       "      <td>-628.890076</td>\n",
       "      <td>1203.691772</td>\n",
       "      <td>-628.452637</td>\n",
       "      <td>1202.742554</td>\n",
       "      <td>-628.763184</td>\n",
       "    </tr>\n",
       "    <tr>\n",
       "      <th>...</th>\n",
       "      <td>...</td>\n",
       "      <td>...</td>\n",
       "      <td>...</td>\n",
       "      <td>...</td>\n",
       "      <td>...</td>\n",
       "      <td>...</td>\n",
       "      <td>...</td>\n",
       "      <td>...</td>\n",
       "      <td>...</td>\n",
       "      <td>...</td>\n",
       "      <td>...</td>\n",
       "      <td>...</td>\n",
       "      <td>...</td>\n",
       "      <td>...</td>\n",
       "      <td>...</td>\n",
       "      <td>...</td>\n",
       "      <td>...</td>\n",
       "      <td>...</td>\n",
       "      <td>...</td>\n",
       "      <td>...</td>\n",
       "      <td>...</td>\n",
       "    </tr>\n",
       "    <tr>\n",
       "      <th>1681_palo-alto</th>\n",
       "      <td>0.000000</td>\n",
       "      <td>0.000000</td>\n",
       "      <td>0.000000</td>\n",
       "      <td>0.000000</td>\n",
       "      <td>0.000000</td>\n",
       "      <td>0.000000</td>\n",
       "      <td>0.000000</td>\n",
       "      <td>0.000000</td>\n",
       "      <td>0.000000</td>\n",
       "      <td>0.000000</td>\n",
       "      <td>...</td>\n",
       "      <td>0.000000</td>\n",
       "      <td>0.000000</td>\n",
       "      <td>0.000000</td>\n",
       "      <td>0.000000</td>\n",
       "      <td>0.000000</td>\n",
       "      <td>0.000000</td>\n",
       "      <td>0.000000</td>\n",
       "      <td>0.000000</td>\n",
       "      <td>0.000000</td>\n",
       "      <td>0.000000</td>\n",
       "    </tr>\n",
       "    <tr>\n",
       "      <th>1682_palo-alto</th>\n",
       "      <td>0.000000</td>\n",
       "      <td>0.000000</td>\n",
       "      <td>0.000000</td>\n",
       "      <td>0.000000</td>\n",
       "      <td>0.000000</td>\n",
       "      <td>0.000000</td>\n",
       "      <td>0.000000</td>\n",
       "      <td>0.000000</td>\n",
       "      <td>0.000000</td>\n",
       "      <td>0.000000</td>\n",
       "      <td>...</td>\n",
       "      <td>0.000000</td>\n",
       "      <td>0.000000</td>\n",
       "      <td>0.000000</td>\n",
       "      <td>0.000000</td>\n",
       "      <td>0.000000</td>\n",
       "      <td>0.000000</td>\n",
       "      <td>0.000000</td>\n",
       "      <td>0.000000</td>\n",
       "      <td>0.000000</td>\n",
       "      <td>0.000000</td>\n",
       "    </tr>\n",
       "    <tr>\n",
       "      <th>1683_palo-alto</th>\n",
       "      <td>0.000000</td>\n",
       "      <td>0.000000</td>\n",
       "      <td>0.000000</td>\n",
       "      <td>0.000000</td>\n",
       "      <td>0.000000</td>\n",
       "      <td>0.000000</td>\n",
       "      <td>0.000000</td>\n",
       "      <td>0.000000</td>\n",
       "      <td>0.000000</td>\n",
       "      <td>0.000000</td>\n",
       "      <td>...</td>\n",
       "      <td>0.000000</td>\n",
       "      <td>0.000000</td>\n",
       "      <td>0.000000</td>\n",
       "      <td>0.000000</td>\n",
       "      <td>0.000000</td>\n",
       "      <td>0.000000</td>\n",
       "      <td>0.000000</td>\n",
       "      <td>0.000000</td>\n",
       "      <td>0.000000</td>\n",
       "      <td>0.000000</td>\n",
       "    </tr>\n",
       "    <tr>\n",
       "      <th>1684_palo-alto</th>\n",
       "      <td>0.000000</td>\n",
       "      <td>0.000000</td>\n",
       "      <td>0.000000</td>\n",
       "      <td>0.000000</td>\n",
       "      <td>0.000000</td>\n",
       "      <td>0.000000</td>\n",
       "      <td>0.000000</td>\n",
       "      <td>0.000000</td>\n",
       "      <td>0.000000</td>\n",
       "      <td>0.000000</td>\n",
       "      <td>...</td>\n",
       "      <td>0.000000</td>\n",
       "      <td>0.000000</td>\n",
       "      <td>0.000000</td>\n",
       "      <td>0.000000</td>\n",
       "      <td>0.000000</td>\n",
       "      <td>0.000000</td>\n",
       "      <td>0.000000</td>\n",
       "      <td>0.000000</td>\n",
       "      <td>0.000000</td>\n",
       "      <td>0.000000</td>\n",
       "    </tr>\n",
       "    <tr>\n",
       "      <th>1685_palo-alto</th>\n",
       "      <td>0.000000</td>\n",
       "      <td>0.000000</td>\n",
       "      <td>0.000000</td>\n",
       "      <td>0.000000</td>\n",
       "      <td>0.000000</td>\n",
       "      <td>0.000000</td>\n",
       "      <td>0.000000</td>\n",
       "      <td>0.000000</td>\n",
       "      <td>0.000000</td>\n",
       "      <td>0.000000</td>\n",
       "      <td>...</td>\n",
       "      <td>0.000000</td>\n",
       "      <td>0.000000</td>\n",
       "      <td>0.000000</td>\n",
       "      <td>0.000000</td>\n",
       "      <td>0.000000</td>\n",
       "      <td>0.000000</td>\n",
       "      <td>0.000000</td>\n",
       "      <td>0.000000</td>\n",
       "      <td>0.000000</td>\n",
       "      <td>0.000000</td>\n",
       "    </tr>\n",
       "  </tbody>\n",
       "</table>\n",
       "<p>29843 rows × 120 columns</p>\n",
       "</div>"
      ],
      "text/plain": [
       "                         v0           v1           v2           v3  \\\n",
       "ID                                                                   \n",
       "0_austin         -11.226071  -568.259033   -10.699904  -568.009460   \n",
       "1_austin        -345.785980    -8.251111  -342.146637    -7.716538   \n",
       "2_austin          54.778496  -249.124374    54.893967  -248.916183   \n",
       "3_austin        -127.204781  1837.148926  -128.300522  1835.108032   \n",
       "4_austin        1218.539307  -632.605530  1218.457764  -632.244568   \n",
       "...                     ...          ...          ...          ...   \n",
       "1681_palo-alto     0.000000     0.000000     0.000000     0.000000   \n",
       "1682_palo-alto     0.000000     0.000000     0.000000     0.000000   \n",
       "1683_palo-alto     0.000000     0.000000     0.000000     0.000000   \n",
       "1684_palo-alto     0.000000     0.000000     0.000000     0.000000   \n",
       "1685_palo-alto     0.000000     0.000000     0.000000     0.000000   \n",
       "\n",
       "                         v4           v5           v6           v7  \\\n",
       "ID                                                                   \n",
       "0_austin         -11.389357  -568.708313   -11.790574  -568.460327   \n",
       "1_austin        -342.032715    -8.993821  -341.930756   -10.368177   \n",
       "2_austin          54.628410  -249.160522    54.510002  -249.203308   \n",
       "3_austin        -125.282196  1835.854736  -127.836250  1833.134766   \n",
       "4_austin        1218.183960  -632.141479  1217.854858  -632.270081   \n",
       "...                     ...          ...          ...          ...   \n",
       "1681_palo-alto     0.000000     0.000000     0.000000     0.000000   \n",
       "1682_palo-alto     0.000000     0.000000     0.000000     0.000000   \n",
       "1683_palo-alto     0.000000     0.000000     0.000000     0.000000   \n",
       "1684_palo-alto     0.000000     0.000000     0.000000     0.000000   \n",
       "1685_palo-alto     0.000000     0.000000     0.000000     0.000000   \n",
       "\n",
       "                         v8           v9  ...         v110         v111  \\\n",
       "ID                                        ...                             \n",
       "0_austin         -12.390487  -568.852783  ...   -16.369585  -567.228699   \n",
       "1_austin        -343.027008    -7.900444  ...  -343.404755   -11.397899   \n",
       "2_austin          54.312447  -249.288162  ...    52.119141  -248.633530   \n",
       "3_austin        -127.269264  1834.062744  ...  -119.982666  1810.755005   \n",
       "4_austin        1217.526489  -631.908020  ...  1203.809692  -628.167542   \n",
       "...                     ...          ...  ...          ...          ...   \n",
       "1681_palo-alto     0.000000     0.000000  ...     0.000000     0.000000   \n",
       "1682_palo-alto     0.000000     0.000000  ...     0.000000     0.000000   \n",
       "1683_palo-alto     0.000000     0.000000  ...     0.000000     0.000000   \n",
       "1684_palo-alto     0.000000     0.000000  ...     0.000000     0.000000   \n",
       "1685_palo-alto     0.000000     0.000000  ...     0.000000     0.000000   \n",
       "\n",
       "                       v112         v113         v114         v115  \\\n",
       "ID                                                                   \n",
       "0_austin         -15.573964  -567.625916   -16.813704  -566.785950   \n",
       "1_austin        -346.625061    -9.949894  -344.180817    -9.206696   \n",
       "2_austin          52.471340  -248.856354    52.007442  -248.710358   \n",
       "3_austin        -120.955177  1814.664307  -120.179588  1815.951660   \n",
       "4_austin        1203.264404  -628.413269  1203.237793  -628.890076   \n",
       "...                     ...          ...          ...          ...   \n",
       "1681_palo-alto     0.000000     0.000000     0.000000     0.000000   \n",
       "1682_palo-alto     0.000000     0.000000     0.000000     0.000000   \n",
       "1683_palo-alto     0.000000     0.000000     0.000000     0.000000   \n",
       "1684_palo-alto     0.000000     0.000000     0.000000     0.000000   \n",
       "1685_palo-alto     0.000000     0.000000     0.000000     0.000000   \n",
       "\n",
       "                       v116         v117         v118         v119  \n",
       "ID                                                                  \n",
       "0_austin         -17.905413  -566.945190   -16.480963  -567.379700  \n",
       "1_austin        -342.258911   -10.060693  -347.077362    -9.816633  \n",
       "2_austin          51.704403  -248.723633    52.090199  -248.936340  \n",
       "3_austin        -121.549072  1811.739380  -121.060776  1812.621216  \n",
       "4_austin        1203.691772  -628.452637  1202.742554  -628.763184  \n",
       "...                     ...          ...          ...          ...  \n",
       "1681_palo-alto     0.000000     0.000000     0.000000     0.000000  \n",
       "1682_palo-alto     0.000000     0.000000     0.000000     0.000000  \n",
       "1683_palo-alto     0.000000     0.000000     0.000000     0.000000  \n",
       "1684_palo-alto     0.000000     0.000000     0.000000     0.000000  \n",
       "1685_palo-alto     0.000000     0.000000     0.000000     0.000000  \n",
       "\n",
       "[29843 rows x 120 columns]"
      ]
     },
     "execution_count": 338,
     "metadata": {},
     "output_type": "execute_result"
    }
   ],
   "source": [
    "submission"
   ]
  },
  {
   "cell_type": "code",
   "execution_count": 321,
   "metadata": {},
   "outputs": [
    {
     "name": "stdout",
     "output_type": "stream",
     "text": [
      "city miami epoch 0 training loss: 1221680.4486225038\n",
      "city miami epoch 1 training loss: 712882.6626987368\n",
      "city miami epoch 2 training loss: 596455.2092065617\n",
      "city miami epoch 3 training loss: 659949.1161173377\n",
      "city miami epoch 4 training loss: 525194.3423403786\n",
      "city miami epoch 5 training loss: 476422.4939103737\n",
      "city miami epoch 6 training loss: 473476.14383587026\n",
      "city miami epoch 7 training loss: 389120.55045063223\n",
      "city miami epoch 8 training loss: 382508.3598424436\n",
      "city miami epoch 9 training loss: 436889.8482517873\n",
      "city miami validation loss: 153395.8440513946\n",
      "\n",
      "city pittsburgh epoch 0 training loss: 144808.77951689484\n",
      "city pittsburgh epoch 1 training loss: 119597.74660345145\n",
      "city pittsburgh epoch 2 training loss: 113785.15969828705\n",
      "city pittsburgh epoch 3 training loss: 108558.862906705\n",
      "city pittsburgh epoch 4 training loss: 102273.97453997703\n",
      "city pittsburgh epoch 5 training loss: 96662.46249093719\n",
      "city pittsburgh epoch 6 training loss: 93879.10755723916\n",
      "city pittsburgh epoch 7 training loss: 89382.0114917252\n",
      "city pittsburgh epoch 8 training loss: 88410.57106155055\n",
      "city pittsburgh epoch 9 training loss: 84501.6307324813\n",
      "city pittsburgh validation loss: 37684.13890054128\n",
      "\n",
      "city dearborn epoch 0 training loss: 357535.32326044526\n",
      "city dearborn epoch 1 training loss: 242941.74000249794\n",
      "city dearborn epoch 2 training loss: 236843.0996114032\n",
      "city dearborn epoch 3 training loss: 226365.03409643692\n",
      "city dearborn epoch 4 training loss: 232282.79311424136\n",
      "city dearborn epoch 5 training loss: 226981.8271886073\n",
      "city dearborn epoch 6 training loss: 215202.47056470736\n",
      "city dearborn epoch 7 training loss: 217100.1913040404\n",
      "city dearborn epoch 8 training loss: 222160.97740265608\n",
      "city dearborn epoch 9 training loss: 214277.5449552742\n",
      "city dearborn validation loss: 398255.1206892293\n",
      "\n",
      "city washington-dc epoch 0 training loss: 92508.51352103619\n",
      "city washington-dc epoch 1 training loss: 88088.72708854068\n",
      "city washington-dc epoch 2 training loss: 76977.58533234122\n",
      "city washington-dc epoch 3 training loss: 74195.05580865896\n",
      "city washington-dc epoch 4 training loss: 73054.83959499815\n",
      "city washington-dc epoch 5 training loss: 87264.26932900593\n",
      "city washington-dc epoch 6 training loss: 79126.22150149933\n",
      "city washington-dc epoch 7 training loss: 74311.15326681362\n",
      "city washington-dc epoch 8 training loss: 68710.67789450371\n",
      "city washington-dc epoch 9 training loss: 71539.40369186216\n",
      "city washington-dc validation loss: 71997.76245999186\n",
      "\n",
      "city palo-alto epoch 0 training loss: 532934.0271656344\n",
      "city palo-alto epoch 1 training loss: 218042.700567286\n",
      "city palo-alto epoch 2 training loss: 196189.16649620712\n",
      "city palo-alto epoch 3 training loss: 161977.20637827352\n",
      "city palo-alto epoch 4 training loss: 149199.11625747994\n",
      "city palo-alto epoch 5 training loss: 134299.27190278698\n",
      "city palo-alto epoch 6 training loss: 118544.47860645631\n",
      "city palo-alto epoch 7 training loss: 101798.0567760264\n",
      "city palo-alto epoch 8 training loss: 97152.20210880107\n",
      "city palo-alto epoch 9 training loss: 112916.50357546943\n",
      "city palo-alto validation loss: 78355.09308549995\n",
      "\n"
     ]
    }
   ],
   "source": [
    "#for each city\n",
    "for city in cities:\n",
    "    train_model_everything(city)"
   ]
  },
  {
   "cell_type": "markdown",
   "metadata": {},
   "source": [
    "error tracker:\n",
    "\n",
    "#### starter code: loss: 243130.4356045948\n",
    "\n",
    "#### add one more linear (32, 16): loss: 234230.23708092162 changed to 356302.6224735306 -> 150056.00799303368 (austin)\n",
    "\n",
    "#### add one more linear (16, 8): loss: 369038.9848585346\n",
    "\n",
    "#### add nn.Dropout() at the end: loss: 139978361.54504338\n",
    "\n",
    "### Model for each city:\n",
    "\n",
    "#### - 20 epoch and 4 batch: test loss on kaggle 544.36019 - linear layer to 16\n",
    "\n",
    "city miami validation loss: 98559.84710601612\n",
    "\n",
    "city pittsburgh validation loss: 25172.430871449083\n",
    "\n",
    "city dearborn validation loss: 83256.51160414904\n",
    "\n",
    "city washington-dc validation loss: 59926.98202549418\n",
    "\n",
    "city palo-alto validation loss: 46965.97407317254\n",
    "\n",
    "#### - 20 epoch and 64 batch: test loss on kaggle 1113.73683\n",
    "\n",
    "city austin validation loss: 279558.9845237329\n",
    "\n",
    "city miami validation loss: 86737.02004293026\n",
    "\n",
    "city pittsburgh validation loss: 159859.5950301462\n",
    "\n",
    "city dearborn validation loss: 64473.38859815645\n",
    "\n",
    "city washington-dc validation loss: 30957.191266277485\n",
    "\n",
    "city palo-alto validation loss: 73393.81933790389\n",
    "\n",
    "#### - 25 epoch and 3 batch:\n",
    "\n",
    "city austin validation loss: 52911.8008622041\n",
    "\n",
    "city miami validation loss: 88357.98424714322\n",
    "\n",
    "Tuesday, May 24:\n",
    "#### - initial normalized try: kaggle score: 23183447.53915\n",
    " \n",
    "#### - 10 epoch 4 batch linear model, normalized on the np.array using mean on x and y for train input only: kaggle: 258629573215727.00000\n",
    " \n",
    "city austin validation loss: 157670.7402768396\n",
    "\n",
    "city miami validation loss: 1959592.4231443857\n",
    "\n",
    "city pittsburgh validation loss: 91227.79281190076\n",
    "\n",
    "city dearborn validation loss: 2523215.6038076165\n",
    "\n",
    "city washington-dc validation loss: 276523.54118590296\n",
    "\n",
    "city palo-alto validation loss: 178981.39781201252\n",
    "\n",
    "#### - 10 epoch 4 batch linear model, normalized on the np.array using mean on x and y for train & test input (kaggle: thousands)\n",
    "\n",
    "city austin validation loss: 159895.71514608504\n",
    "\n",
    "city miami validation loss: 2325600.779936006\n",
    "\n",
    "city pittsburgh validation loss: 96821.91801933691\n",
    "\n",
    "city dearborn validation loss: 1775521.5025307538\n",
    "\n",
    "city washington-dc validation loss: 198954.68477373937\n",
    "\n",
    "city palo-alto validation loss: 148117.14359715945\n",
    "\n",
    "\n",
    "#### - 10 epoch 4 batch with increasing number in linear layers (3 layers ) Kaggle: 1436.45145\n",
    "\n",
    "city austin validation loss: 183433.64480003214\n",
    "\n",
    "city miami validation loss: 386331.1446056165\n",
    "\n",
    "city pittsburgh validation loss: 29015.535780647027\n",
    "\n",
    "city dearborn validation loss: 185450.14339038482\n",
    "\n",
    "city washington-dc validation loss: 45704.22556038866\n",
    "\n",
    "city palo-alto validation loss: 49480.62240936941\n",
    "\n",
    "\n",
    "- other pre-processing?\n",
    "- normalization has worse scores (batch norm?)\n",
    "- increasing / decreasing num in layer\n",
    "- city feature? \n",
    "\n",
    "Thursday, May 26:\n",
    "#### fixed loss func: 60 epch Kaggle: 431.85858 (best so far)\n",
    "\n",
    "#### fixed loss func: all city together 10 epoch:\n",
    "\n",
    "training loss: 3148.764601363746\n",
    " \n",
    "validation loss: 2028.2194615384844"
   ]
  },
  {
   "cell_type": "markdown",
   "metadata": {},
   "source": [
    "## randomly choose from training set and plot the ground truth and prediction trajectories"
   ]
  },
  {
   "cell_type": "code",
   "execution_count": 300,
   "metadata": {},
   "outputs": [],
   "source": [
    "from random import *\n",
    "def plot_truth_prediction(city):\n",
    "    \n",
    "    fig, axs = plt.subplots(1,2, figsize=(15, 3), facecolor='w', edgecolor='k')\n",
    "    fig.subplots_adjust(hspace = .5, wspace=.001)\n",
    "    axs = axs.ravel()  \n",
    "    \n",
    "\n",
    "    idx = randint(0, int(55029 * 0.8 - 1))\n",
    "    truth = dic[city][0][idx]\n",
    "    prediction = dic[city][1][idx]\n",
    "\n",
    "    truth_array = np.array(truth.tolist()[0])\n",
    "    prediction_array = np.array(prediction.tolist()[0])\n",
    "\n",
    "\n",
    "    axs[0].xaxis.set_ticks([])\n",
    "    axs[0].yaxis.set_ticks([])\n",
    "\n",
    "    axs[0].scatter(truth_array[:,0], truth_array[:,1], color='green')\n",
    "    axs[0].set_title(city + ' Ground truth output')\n",
    "\n",
    "    axs[1].xaxis.set_ticks([])\n",
    "    axs[1].yaxis.set_ticks([])\n",
    "\n",
    "    axs[1].scatter(prediction_array[:,0], prediction_array[:,1], color='green')\n",
    "    axs[1].set_title(city + ' Predicted trajectory')\n",
    "    "
   ]
  },
  {
   "cell_type": "code",
   "execution_count": 301,
   "metadata": {},
   "outputs": [
    {
     "data": {
      "text/plain": [
       "['austin', 'miami', 'pittsburgh', 'dearborn', 'washington-dc', 'palo-alto']"
      ]
     },
     "execution_count": 301,
     "metadata": {},
     "output_type": "execute_result"
    }
   ],
   "source": [
    "cities"
   ]
  },
  {
   "cell_type": "code",
   "execution_count": 303,
   "metadata": {},
   "outputs": [
    {
     "data": {
      "image/png": "[encoded data removed]",
      "text/plain": [
       "<Figure size 1080x216 with 2 Axes>"
      ]
     },
     "metadata": {},
     "output_type": "display_data"
    }
   ],
   "source": [
    "plot_truth_prediction('austin')"
   ]
  },
  {
   "cell_type": "code",
   "execution_count": 223,
   "metadata": {},
   "outputs": [
    {
     "data": {
      "image/png": "[encoded data removed]",
      "text/plain": [
       "<Figure size 1080x216 with 2 Axes>"
      ]
     },
     "metadata": {},
     "output_type": "display_data"
    }
   ],
   "source": [
    "plot_truth_prediction('miami')"
   ]
  },
  {
   "cell_type": "code",
   "execution_count": 224,
   "metadata": {},
   "outputs": [
    {
     "data": {
      "image/png": "[encoded data removed]",
      "text/plain": [
       "<Figure size 1080x216 with 2 Axes>"
      ]
     },
     "metadata": {},
     "output_type": "display_data"
    }
   ],
   "source": [
    "plot_truth_prediction('pittsburgh')"
   ]
  },
  {
   "cell_type": "code",
   "execution_count": 237,
   "metadata": {},
   "outputs": [
    {
     "data": {
      "image/png": "[encoded data removed]",
      "text/plain": [
       "<Figure size 1080x216 with 2 Axes>"
      ]
     },
     "metadata": {},
     "output_type": "display_data"
    }
   ],
   "source": [
    "plot_truth_prediction('dearborn')"
   ]
  },
  {
   "cell_type": "code",
   "execution_count": 239,
   "metadata": {},
   "outputs": [
    {
     "data": {
      "image/png": "[encoded data removed]",
      "text/plain": [
       "<Figure size 1080x216 with 2 Axes>"
      ]
     },
     "metadata": {},
     "output_type": "display_data"
    }
   ],
   "source": [
    "plot_truth_prediction('washington-dc')"
   ]
  },
  {
   "cell_type": "code",
   "execution_count": 251,
   "metadata": {},
   "outputs": [
    {
     "data": {
      "image/png": "[encoded data removed]",
      "text/plain": [
       "<Figure size 1080x216 with 2 Axes>"
      ]
     },
     "metadata": {},
     "output_type": "display_data"
    }
   ],
   "source": [
    "plot_truth_prediction('palo-alto')"
   ]
  },
  {
   "cell_type": "markdown",
   "metadata": {},
   "source": [
    "## Plot Training Loss over Step for each city"
   ]
  },
  {
   "cell_type": "code",
   "execution_count": 90,
   "metadata": {},
   "outputs": [
    {
     "ename": "NameError",
     "evalue": "name 'loss_list_cities' is not defined",
     "output_type": "error",
     "traceback": [
      "\u001b[0;31m---------------------------------------------------------------------------\u001b[0m",
      "\u001b[0;31mNameError\u001b[0m                                 Traceback (most recent call last)",
      "\u001b[0;32m<ipython-input-90-5c36877e9f1c>\u001b[0m in \u001b[0;36m<module>\u001b[0;34m\u001b[0m\n\u001b[0;32m----> 1\u001b[0;31m \u001b[0mplt\u001b[0m\u001b[0;34m.\u001b[0m\u001b[0mplot\u001b[0m\u001b[0;34m(\u001b[0m\u001b[0mloss_list_cities\u001b[0m\u001b[0;34m[\u001b[0m\u001b[0;36m0\u001b[0m\u001b[0;34m]\u001b[0m\u001b[0;34m)\u001b[0m\u001b[0;34m\u001b[0m\u001b[0;34m\u001b[0m\u001b[0m\n\u001b[0m\u001b[1;32m      2\u001b[0m \u001b[0mplt\u001b[0m\u001b[0;34m.\u001b[0m\u001b[0mtitle\u001b[0m\u001b[0;34m(\u001b[0m\u001b[0;34m\"Austin Loss\"\u001b[0m\u001b[0;34m)\u001b[0m\u001b[0;34m\u001b[0m\u001b[0;34m\u001b[0m\u001b[0m\n",
      "\u001b[0;31mNameError\u001b[0m: name 'loss_list_cities' is not defined"
     ]
    }
   ],
   "source": [
    "plt.plot(loss_list_cities[0])\n",
    "plt.title(\"Austin Loss\")"
   ]
  },
  {
   "cell_type": "code",
   "execution_count": 691,
   "metadata": {},
   "outputs": [
    {
     "data": {
      "text/plain": [
       "Text(0.5, 1.0, 'Miami Loss')"
      ]
     },
     "execution_count": 691,
     "metadata": {},
     "output_type": "execute_result"
    },
    {
     "data": {
      "image/png": "[encoded data removed]",
      "text/plain": [
       "<Figure size 432x288 with 1 Axes>"
      ]
     },
     "metadata": {
      "needs_background": "light"
     },
     "output_type": "display_data"
    }
   ],
   "source": [
    "plt.plot(loss_list_cities[1])\n",
    "plt.title(\"Miami Loss\")"
   ]
  },
  {
   "cell_type": "code",
   "execution_count": 692,
   "metadata": {},
   "outputs": [
    {
     "data": {
      "text/plain": [
       "Text(0.5, 1.0, 'Pittsburgh Loss')"
      ]
     },
     "execution_count": 692,
     "metadata": {},
     "output_type": "execute_result"
    },
    {
     "data": {
      "image/png": "[encoded data removed]",
      "text/plain": [
       "<Figure size 432x288 with 1 Axes>"
      ]
     },
     "metadata": {
      "needs_background": "light"
     },
     "output_type": "display_data"
    }
   ],
   "source": [
    "plt.plot(loss_list_cities[2])\n",
    "plt.title(\"Pittsburgh Loss\")"
   ]
  },
  {
   "cell_type": "code",
   "execution_count": 694,
   "metadata": {},
   "outputs": [
    {
     "data": {
      "text/plain": [
       "Text(0.5, 1.0, 'Dearborn Loss')"
      ]
     },
     "execution_count": 694,
     "metadata": {},
     "output_type": "execute_result"
    },
    {
     "data": {
      "image/png": "[encoded data removed]",
      "text/plain": [
       "<Figure size 432x288 with 1 Axes>"
      ]
     },
     "metadata": {
      "needs_background": "light"
     },
     "output_type": "display_data"
    }
   ],
   "source": [
    "plt.plot(loss_list_cities[3])\n",
    "plt.title(\"Dearborn Loss\")"
   ]
  },
  {
   "cell_type": "code",
   "execution_count": 695,
   "metadata": {},
   "outputs": [
    {
     "data": {
      "text/plain": [
       "Text(0.5, 1.0, 'Washington-dc Loss')"
      ]
     },
     "execution_count": 695,
     "metadata": {},
     "output_type": "execute_result"
    },
    {
     "data": {
      "image/png": "[encoded data removed]",
      "text/plain": [
       "<Figure size 432x288 with 1 Axes>"
      ]
     },
     "metadata": {
      "needs_background": "light"
     },
     "output_type": "display_data"
    }
   ],
   "source": [
    "plt.plot(loss_list_cities[4])\n",
    "plt.title(\"Washington-dc Loss\")"
   ]
  },
  {
   "cell_type": "code",
   "execution_count": 696,
   "metadata": {},
   "outputs": [
    {
     "data": {
      "text/plain": [
       "Text(0.5, 1.0, 'Palo-alto Loss')"
      ]
     },
     "execution_count": 696,
     "metadata": {},
     "output_type": "execute_result"
    },
    {
     "data": {
      "image/png": "[encoded data removed]",
      "text/plain": [
       "<Figure size 432x288 with 1 Axes>"
      ]
     },
     "metadata": {
      "needs_background": "light"
     },
     "output_type": "display_data"
    }
   ],
   "source": [
    "plt.plot(loss_list_cities[5])\n",
    "plt.title(\"Palo-alto Loss\")"
   ]
  },
  {
   "cell_type": "code",
   "execution_count": null,
   "metadata": {},
   "outputs": [],
   "source": []
  },
  {
   "cell_type": "markdown",
   "metadata": {},
   "source": [
    "## write predictions on test set to csv file "
   ]
  },
  {
   "cell_type": "code",
   "execution_count": 323,
   "metadata": {},
   "outputs": [],
   "source": [
    "from pathlib import Path  \n",
    "filepath = Path('./argo2/out.csv')  \n",
    "submission.to_csv(filepath)"
   ]
  },
  {
   "cell_type": "markdown",
   "metadata": {},
   "source": [
    "old code on writing to submission dataframe and csv file:"
   ]
  },
  {
   "cell_type": "code",
   "execution_count": 560,
   "metadata": {},
   "outputs": [],
   "source": [
    "### Get the prediction and write to the dataFrame\n",
    "# def get_pred(city):\n",
    "#     test_dataset = ArgoverseDataset(city = city, split = \"test\")\n",
    "#     batch_sz = 1  # batch size \n",
    "#     test_loader = DataLoader(test_dataset,batch_size=batch_sz)\n",
    "    \n",
    "#     for i_batch, sample_batch in enumerate(test_loader):\n",
    "#         inp = sample_batch\n",
    "        \n",
    "#     preds = []\n",
    "#     test_loss = 0\n",
    "#     for i_batch, sample_batch in enumerate(test_loader):\n",
    "#         inp = sample_batch\n",
    "#         preds.append(pred(inp))\n",
    "        \n",
    "#     return preds"
   ]
  },
  {
   "cell_type": "code",
   "execution_count": 561,
   "metadata": {},
   "outputs": [],
   "source": [
    "# submission = pd.read_csv('./argo2/sample_submission.csv')"
   ]
  },
  {
   "cell_type": "code",
   "execution_count": 562,
   "metadata": {},
   "outputs": [],
   "source": [
    "# submission = submission.set_index(\"ID\")"
   ]
  },
  {
   "cell_type": "code",
   "execution_count": 563,
   "metadata": {},
   "outputs": [],
   "source": [
    "# cities = ['austin', 'dearborn', 'miami', 'palo-alto', 'pittsburgh', 'washington-dc']\n",
    "\n",
    "# for city in cities:\n",
    "#     preds = get_pred(city)\n",
    "#     for i, p in enumerate(preds):\n",
    "#         new_p = p.reshape(-1, 120).float().tolist()[0]\n",
    "#         submission.loc[str(i)+'_'+city] = new_p"
   ]
  },
  {
   "cell_type": "code",
   "execution_count": 564,
   "metadata": {},
   "outputs": [],
   "source": [
    "# from pathlib import Path  \n",
    "# filepath = Path('./argo2/out.csv')  \n",
    "# submission.to_csv(filepath)"
   ]
  },
  {
   "cell_type": "markdown",
   "metadata": {},
   "source": [
    "# EDA: the distribution of input/output positions for all agents"
   ]
  },
  {
   "cell_type": "code",
   "execution_count": 462,
   "metadata": {},
   "outputs": [],
   "source": [
    "def get_pivot(city, all_cities=False):\n",
    "    cities = ['austin', 'dearborn', 'miami', 'palo-alto', 'pittsburgh', 'washington-dc']\n",
    "    ROOT_PATH = \"./argo2/\"\n",
    "    \n",
    "    all_inputs = []\n",
    "    all_outputs = []\n",
    "\n",
    "    def get_data(city):\n",
    "        f_in = ROOT_PATH + \"train/\" + city + \"_inputs\"\n",
    "        inputs = pickle.load(open(f_in, \"rb\"))\n",
    "        for i in inputs.tolist():\n",
    "            all_inputs.append(i)\n",
    "\n",
    "        f_out = ROOT_PATH + \"train/\" + city + \"_outputs\"\n",
    "        outputs = pickle.load(open(f_out, \"rb\"))\n",
    "        for i in outputs.tolist():\n",
    "            all_outputs.append(i)\n",
    "    \n",
    "    if all_cities == False:\n",
    "        get_data(city)\n",
    "    elif all_cities == True:\n",
    "        for c in cities:\n",
    "            get_data(c)\n",
    "        \n",
    "    #convert to array\n",
    "    inputs_array = np.asarray(all_inputs)\n",
    "    outputs_array = np.asarray(all_outputs)\n",
    "\n",
    "    #reshape so that its one dim for all cities\n",
    "    n, t, d = inputs_array.shape\n",
    "    allTimes_inputs_array = inputs_array.reshape(n*t, d)\n",
    "    n, t, d = outputs_array.shape\n",
    "    allTimes_outputs_array = outputs_array.reshape(n*t, d)\n",
    "\n",
    "    #put x and y in groups\n",
    "    df_input = pd.DataFrame(data=allTimes_inputs_array, columns=['x', 'y'])\n",
    "    df_input['x_groups'] = df_input.x // 100\n",
    "    df_input['y_groups'] = df_input.y // 100\n",
    "\n",
    "    df_output = pd.DataFrame(data=allTimes_outputs_array, columns=['x', 'y'])\n",
    "    df_output['x_groups'] = df_output.x // 100\n",
    "    df_output['y_groups'] = df_output.y // 100\n",
    "\n",
    "    #get the counts for each (x, y) group\n",
    "    df_input_new = df_input.groupby(['x_groups', 'y_groups']).size()\n",
    "    df_input_new = pd.DataFrame(df_input_new)\n",
    "\n",
    "    df_input_new.columns = ['counts']\n",
    "    df_input_new = df_input_new.reset_index()\n",
    "\n",
    "    df_output_new = df_output.groupby(['x_groups', 'y_groups']).size()\n",
    "    df_output_new = pd.DataFrame(df_output_new)\n",
    "    df_output_new.columns = ['counts']\n",
    "    df_output_new = df_output_new.reset_index()\n",
    "\n",
    "    #convert the groups back (*100)\n",
    "    df_input_new.x_groups = df_input_new.x_groups * 100\n",
    "    df_input_new.y_groups = df_input_new.y_groups * 100\n",
    "    df_output_new.x_groups = df_output_new.x_groups * 100\n",
    "    df_output_new.y_groups = df_output_new.y_groups * 100\n",
    "\n",
    "    #pivot\n",
    "    df_input_plot = df_input_new.pivot(index='x_groups', columns='y_groups', values='counts')\n",
    "    df_output_plot = df_output_new.pivot(index='x_groups', columns='y_groups', values='counts')\n",
    "    return df_input_plot, df_output_plot\n",
    "    \n",
    "def plot_heatmap(city, all_cities=False):\n",
    "    \n",
    "    df_input_plot, df_output_plot = get_pivot(city, all_cities)\n",
    "    \n",
    "    fig, axes = plt.subplots(ncols=2, figsize=(16, 6))\n",
    "    fig.subplots_adjust(wspace=.2)\n",
    "    ax1, ax2 = axes\n",
    "    \n",
    "    #heatmap for input & output position\n",
    "    sns.heatmap(df_input_plot, cmap = \"coolwarm\", ax = ax1).invert_yaxis()\n",
    "    ax1.set_title(\"All input\", y=-.3)\n",
    "    plt.show()\n",
    "    \n",
    "    sns.heatmap(df_output_plot, cmap = \"coolwarm\", ax = ax2).invert_yaxis()\n",
    "    ax2.set_title(\"All output \", y=-.3)\n",
    "    plt.show()\n",
    "\n"
   ]
  },
  {
   "cell_type": "code",
   "execution_count": 463,
   "metadata": {},
   "outputs": [
    {
     "name": "stderr",
     "output_type": "stream",
     "text": [
      "<ipython-input-462-cd185f2a9c81>:78: UserWarning: Matplotlib is currently using agg, which is a non-GUI backend, so cannot show the figure.\n",
      "  plt.show()\n",
      "<ipython-input-462-cd185f2a9c81>:82: UserWarning: Matplotlib is currently using agg, which is a non-GUI backend, so cannot show the figure.\n",
      "  plt.show()\n"
     ]
    },
    {
     "data": {
      "image/png": "[encoded data removed]",
      "text/plain": [
       "<Figure size 1152x432 with 4 Axes>"
      ]
     },
     "metadata": {
      "needs_background": "light"
     },
     "output_type": "display_data"
    }
   ],
   "source": [
    "plot_heatmap('washington-dc', True)"
   ]
  },
  {
   "cell_type": "markdown",
   "metadata": {},
   "source": []
  },
  {
   "cell_type": "code",
   "execution_count": null,
   "metadata": {},
   "outputs": [],
   "source": []
  }
 ],
 "metadata": {
  "kernelspec": {
   "display_name": "Python 3",
   "language": "python",
   "name": "python3"
  },
  "language_info": {
   "codemirror_mode": {
    "name": "ipython",
    "version": 3
   },
   "file_extension": ".py",
   "mimetype": "text/x-python",
   "name": "python",
   "nbconvert_exporter": "python",
   "pygments_lexer": "ipython3",
   "version": "3.8.5"
  }
 },
 "nbformat": 4,
 "nbformat_minor": 5
}

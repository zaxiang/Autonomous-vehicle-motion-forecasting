{
 "cells": [
  {
   "cell_type": "markdown",
   "metadata": {},
   "source": [
    "# CSE151B Project Milestone Code"
   ]
  },
  {
   "cell_type": "markdown",
   "metadata": {},
   "source": [
    "## Install the package dependencies before running this notebook"
   ]
  },
  {
   "cell_type": "code",
   "execution_count": 1,
   "metadata": {},
   "outputs": [
    {
     "data": {
      "text/plain": [
       "'\\n    number of trajectories in each city\\n    # austin --  train: 43041 test: 6325 \\n    # miami -- train: 55029 test:7971\\n    # pittsburgh -- train: 43544 test: 6361\\n    # dearborn -- train: 24465 test: 3671\\n    # washington-dc -- train: 25744 test: 3829\\n    # palo-alto -- train:  11993 test:1686\\n\\n    trajectories sampled at 10HZ rate, input 5 seconds, output 6 seconds\\n    \\n'"
      ]
     },
     "execution_count": 1,
     "metadata": {},
     "output_type": "execute_result"
    }
   ],
   "source": [
    "import torch\n",
    "from torch.utils.data import Dataset, DataLoader\n",
    "import os, os.path \n",
    "import numpy \n",
    "import pickle\n",
    "from glob import glob\n",
    "import pandas as pd\n",
    "\n",
    "\"\"\"\n",
    "    number of trajectories in each city\n",
    "    # austin --  train: 43041 test: 6325 \n",
    "    # miami -- train: 55029 test:7971\n",
    "    # pittsburgh -- train: 43544 test: 6361\n",
    "    # dearborn -- train: 24465 test: 3671\n",
    "    # washington-dc -- train: 25744 test: 3829\n",
    "    # palo-alto -- train:  11993 test:1686\n",
    "\n",
    "    trajectories sampled at 10HZ rate, input 5 seconds, output 6 seconds\n",
    "    \n",
    "\"\"\""
   ]
  },
  {
   "cell_type": "markdown",
   "metadata": {},
   "source": [
    "## Create a Torch.Dataset class for the training dataset AND  Create a DataLoader class for training"
   ]
  },
  {
   "cell_type": "code",
   "execution_count": 2,
   "metadata": {},
   "outputs": [],
   "source": [
    "from glob import glob\n",
    "import pickle\n",
    "import numpy as np\n",
    "from sklearn.preprocessing import normalize \n",
    "\n",
    "ROOT_PATH = \"./argo2/\"\n",
    "\n",
    "cities = [\"austin\", \"miami\", \"pittsburgh\", \"dearborn\", \"washington-dc\", \"palo-alto\"]\n",
    "splits = [\"train\", \"test\"]\n",
    "\n",
    "def get_city_trajectories(city=\"palo-alto\", split=\"train\", normalized=False):\n",
    "#     f_in = ROOT_PATH + split + \"/\" + city + \"_inputs\"\n",
    "#     inputs = pickle.load(open(f_in, \"rb\"))\n",
    "#     inputs = np.asarray(inputs)\n",
    "    \n",
    "    outputs = None\n",
    "    relative_out = None\n",
    "    \n",
    "#     if split==\"train\":\n",
    "#         f_out = ROOT_PATH + split + \"/\" + city + \"_outputs\"\n",
    "#         outputs = pickle.load(open(f_out, \"rb\"))\n",
    "#         outputs = np.asarray(outputs)\n",
    "\n",
    "#     return inputs, outputs\n",
    "\n",
    "    if split==\"train\":\n",
    "        f_in = ROOT_PATH + split + \"/\" + city + \"_inputs\"\n",
    "        inputs = pickle.load(open(f_in, \"rb\"))\n",
    "        n = len(inputs)\n",
    "        inputs = np.asarray(inputs)[:int(n * 0.8)]\n",
    "\n",
    "        f_out = ROOT_PATH + split + \"/\" + city + \"_outputs\"\n",
    "        outputs = pickle.load(open(f_out, \"rb\"))\n",
    "        outputs = np.asarray(outputs)[:int(n * 0.8)]\n",
    "        \n",
    "    elif split == 'val':\n",
    "        f_in = ROOT_PATH + 'train' + \"/\" + city + \"_inputs\"\n",
    "        inputs = pickle.load(open(f_in, \"rb\"))\n",
    "        n = len(inputs)\n",
    "        inputs = np.asarray(inputs)[int(n * 0.8):]\n",
    "        \n",
    "        f_out = ROOT_PATH + 'train' + \"/\" + city + \"_outputs\"\n",
    "        outputs = pickle.load(open(f_out, \"rb\"))\n",
    "        outputs = np.asarray(outputs)[int(n * 0.8):]\n",
    "    \n",
    "    elif split == \"test\":\n",
    "        f_in = ROOT_PATH + split + \"/\" + city + \"_inputs\"\n",
    "        inputs = pickle.load(open(f_in, \"rb\"))\n",
    "        n = len(inputs)\n",
    "        inputs = np.asarray(inputs)\n",
    "    \n",
    "    if normalized:\n",
    "        \n",
    "        mean_x = np.mean(inputs[:, :, 0])\n",
    "        inputs[:, :, 0] = inputs[:, :, 0] / mean_x\n",
    "        mean_y = np.mean(inputs[:, :, 1])\n",
    "        inputs[:, :, 1] = inputs[:, :, 1] / mean_y\n",
    "        \n",
    "        #outputs = normalize(inputs, axis=1, norm='l1')\n",
    "    \n",
    "    #get reletive position\n",
    "    origin = inputs[:,0,:]\n",
    "    \n",
    "    new_origin = inputs.copy()\n",
    "    for j,d in enumerate(new_origin):\n",
    "        for i,d in enumerate(new_origin[j]):\n",
    "            new_origin[j][i] = origin[j]\n",
    "    relative_inp = inputs - new_origin\n",
    "            \n",
    "    if outputs is not None:\n",
    "        new_origin_out = outputs.copy()\n",
    "        for j,d in enumerate(new_origin_out):\n",
    "            for i,d in enumerate(new_origin_out[j]):\n",
    "                new_origin_out[j][i] = origin[j]\n",
    "        relative_out = outputs - new_origin_out\n",
    "    \n",
    "    return relative_inp, relative_out\n",
    "\n",
    "class ArgoverseDataset(Dataset):\n",
    "    \"\"\"Dataset class for Argoverse\"\"\"\n",
    "    def __init__(self, split:str, transform=None):\n",
    "        super(ArgoverseDataset, self).__init__()\n",
    "        self.transform = transform\n",
    "\n",
    "        self.inputs, self.outputs = [], []\n",
    "        \n",
    "        city_one_hot = {\"austin\": [1, 0, 0, 0, 0, 0], \"miami\": [0, 1, 0, 0, 0, 0], \\\n",
    "                        \"pittsburgh\": [0, 0, 1, 0, 0, 0], \"dearborn\": [0, 0, 0, 1, 0, 0], \\\n",
    "                        \"washington-dc\": [0, 0, 0, 0, 1, 0], \"palo-alto\": [0, 0, 0, 0, 0, 1]}\n",
    "        \n",
    "        for city in [\"austin\", \"miami\", \"pittsburgh\", \"dearborn\", \"washington-dc\", \"palo-alto\"]:\n",
    "            \n",
    "            inp, out = get_city_trajectories(city=city, split=split, normalized=False)\n",
    "    \n",
    "            inp = inp.tolist()\n",
    "            for i in inp: #one hot encoding for each city\n",
    "                for j in i:\n",
    "                    j.extend(city_one_hot[city])\n",
    "            self.inputs.extend(inp)\n",
    "                    \n",
    "            if out is not None:\n",
    "                out = out.tolist()\n",
    "                self.outputs.extend(out)\n",
    "            else:\n",
    "                self.outputs = None\n",
    "                \n",
    "        self.inputs = np.array(self.inputs)\n",
    "        if self.outputs is not None:\n",
    "            self.outputs = np.array(self.outputs)\n",
    "\n",
    "    def __len__(self):\n",
    "        return len(self.inputs)\n",
    "\n",
    "    def __getitem__(self, idx):\n",
    "\n",
    "        if self.outputs is None:\n",
    "            data = self.inputs[idx]\n",
    "        else:\n",
    "            data = (self.inputs[idx], self.outputs[idx])\n",
    "        \n",
    "        if self.transform:\n",
    "            data = self.transform(data)\n",
    "\n",
    "        return data"
   ]
  },
  {
   "cell_type": "code",
   "execution_count": 3,
   "metadata": {},
   "outputs": [],
   "source": [
    "# intialize a dataset on all just for visualization purpose:\\  (around 10 mins)\n",
    "train_dataset  = ArgoverseDataset(split = 'train')\n",
    "val_dataset = ArgoverseDataset(split = 'val')"
   ]
  },
  {
   "cell_type": "code",
   "execution_count": 4,
   "metadata": {},
   "outputs": [],
   "source": [
    "## Create a DataLoader class for training\n",
    "batch_sz = 4  # batch size \n",
    "train_loader = DataLoader(train_dataset,batch_size=batch_sz)\n",
    "val_loader = DataLoader(val_dataset,batch_size=batch_sz)"
   ]
  },
  {
   "cell_type": "markdown",
   "metadata": {},
   "source": [
    "## Sample a batch of data and visualize "
   ]
  },
  {
   "cell_type": "code",
   "execution_count": 78,
   "metadata": {},
   "outputs": [
    {
     "data": {
      "image/png": "[encoded data removed]",
      "text/plain": [
       "<Figure size 1080x216 with 4 Axes>"
      ]
     },
     "metadata": {},
     "output_type": "display_data"
    },
    {
     "data": {
      "image/png": "[encoded data removed]",
      "text/plain": [
       "<Figure size 1080x216 with 4 Axes>"
      ]
     },
     "metadata": {},
     "output_type": "display_data"
    },
    {
     "data": {
      "image/png": "[encoded data removed]",
      "text/plain": [
       "<Figure size 1080x216 with 4 Axes>"
      ]
     },
     "metadata": {},
     "output_type": "display_data"
    },
    {
     "data": {
      "image/png": "[encoded data removed]",
      "text/plain": [
       "<Figure size 1080x216 with 4 Axes>"
      ]
     },
     "metadata": {},
     "output_type": "display_data"
    },
    {
     "data": {
      "image/png": "[encoded data removed]",
      "text/plain": [
       "<Figure size 1080x216 with 4 Axes>"
      ]
     },
     "metadata": {},
     "output_type": "display_data"
    }
   ],
   "source": [
    "import matplotlib.pyplot as plt\n",
    "import random\n",
    "\n",
    "\n",
    "def show_sample_batch(sample_batch):\n",
    "    \"\"\"visualize the trajectory for a batch of samples\"\"\"\n",
    "    inp, out = sample_batch\n",
    "    batch_sz = inp.size(0)\n",
    "    agent_sz = inp.size(1)\n",
    "    \n",
    "    fig, axs = plt.subplots(1,batch_sz, figsize=(15, 3), facecolor='w', edgecolor='k')\n",
    "    fig.subplots_adjust(hspace = .5, wspace=.001)\n",
    "    axs = axs.ravel()   \n",
    "    for i in range(batch_sz):\n",
    "        axs[i].xaxis.set_ticks([])\n",
    "        axs[i].yaxis.set_ticks([])\n",
    "        \n",
    "        # first two feature dimensions are (x,y) positions\n",
    "        axs[i].scatter(inp[i,:,0], inp[i,:,1], color='pink')\n",
    "        axs[i].scatter(out[i,:,0], out[i,:,1], color='green')\n",
    "\n",
    "\n",
    "count = 0\n",
    "\n",
    "for i_batch, sample_batch in enumerate(train_loader):\n",
    "    inp, out = sample_batch\n",
    "    \"\"\"\n",
    "    TODO:\n",
    "      implement your Deep learning model\n",
    "      implement training routine\n",
    "    \"\"\"\n",
    "    show_sample_batch(sample_batch)\n",
    "    \n",
    "    \n",
    "    count += 1\n",
    "    if count == 5:\n",
    "        break"
   ]
  },
  {
   "cell_type": "markdown",
   "metadata": {},
   "source": [
    "# LINEAR Model (4 linear layers for encoder and decoder)"
   ]
  },
  {
   "cell_type": "code",
   "execution_count": 143,
   "metadata": {},
   "outputs": [],
   "source": [
    "from torch import nn, optim\n",
    "\n",
    "class get_output_hidden(nn.Module):\n",
    "    def forward(self, x):\n",
    "        out, hidden = x\n",
    "        return hidden\n",
    "    \n",
    "class get_output(nn.Module):\n",
    "    def forward(self, x):\n",
    "        out, hidden = x\n",
    "        return out\n",
    "    \n",
    "class Pred(nn.Module):\n",
    "\n",
    "    def __init__(self):\n",
    "        super().__init__()\n",
    "        \n",
    "        self.encoder = nn.Sequential(\n",
    "\n",
    "#             nn.Linear(400, 256),\n",
    "#             nn.ReLU(),\n",
    "#             nn.LSTM(256, 200),\n",
    "#             get_output()\n",
    "            \n",
    "#             get_output(),\n",
    "#             nn.Linear(128, 48)\n",
    "            nn.Linear(400, 240),\n",
    "            nn.ReLU(),\n",
    "            nn.Dropout(.5),\n",
    "            nn.Linear(240, 96),\n",
    "            nn.ReLU(),\n",
    "            nn.Linear(96, 48),\n",
    "            nn.ReLU(),\n",
    "            nn.Linear(48, 16),\n",
    "            nn.ReLU(),\n",
    "            nn.Linear(16, 16)\n",
    "            \n",
    "        )\n",
    "        \n",
    "\n",
    "        self.decoder = nn.Sequential(\n",
    "\n",
    "#             nn.LSTM(200, 256),\n",
    "#             get_output(),\n",
    "#             nn.Linear(256, 200)\n",
    "            \n",
    "#             nn.ReLU(),\n",
    "#             nn.Linear(200, 200)\n",
    "\n",
    "            nn.Linear(16, 32),\n",
    "            nn.ReLU(),\n",
    "            nn.Dropout(.5),\n",
    "            nn.Linear(32, 64),\n",
    "            nn.ReLU(),\n",
    "            nn.Linear(64, 120),\n",
    "            nn.ReLU(),\n",
    "            nn.Linear(120, 120)\n",
    "        )\n",
    "        \n",
    "    def forward(self, x):\n",
    "        x = x.reshape(-1, 400).float()\n",
    "        x = self.encoder(x)\n",
    "        x = self.decoder(x)\n",
    "        x = x.reshape(-1, 60, 2)\n",
    "        return x"
   ]
  },
  {
   "cell_type": "code",
   "execution_count": 144,
   "metadata": {},
   "outputs": [],
   "source": [
    "pred = Pred()\n",
    "opt = optim.Adam(pred.parameters(), lr=1e-3)"
   ]
  },
  {
   "cell_type": "markdown",
   "metadata": {},
   "source": [
    "### prepare the dataframe for submission"
   ]
  },
  {
   "cell_type": "code",
   "execution_count": 145,
   "metadata": {},
   "outputs": [],
   "source": [
    "submission = pd.read_csv('./argo2/sample_submission.csv')\n",
    "submission = submission.set_index(\"ID\")"
   ]
  },
  {
   "cell_type": "code",
   "execution_count": 146,
   "metadata": {},
   "outputs": [
    {
     "data": {
      "text/html": [
       "<div>\n",
       "<style scoped>\n",
       "    .dataframe tbody tr th:only-of-type {\n",
       "        vertical-align: middle;\n",
       "    }\n",
       "\n",
       "    .dataframe tbody tr th {\n",
       "        vertical-align: top;\n",
       "    }\n",
       "\n",
       "    .dataframe thead th {\n",
       "        text-align: right;\n",
       "    }\n",
       "</style>\n",
       "<table border=\"1\" class=\"dataframe\">\n",
       "  <thead>\n",
       "    <tr style=\"text-align: right;\">\n",
       "      <th></th>\n",
       "      <th>v0</th>\n",
       "      <th>v1</th>\n",
       "      <th>v2</th>\n",
       "      <th>v3</th>\n",
       "      <th>v4</th>\n",
       "      <th>v5</th>\n",
       "      <th>v6</th>\n",
       "      <th>v7</th>\n",
       "      <th>v8</th>\n",
       "      <th>v9</th>\n",
       "      <th>...</th>\n",
       "      <th>v110</th>\n",
       "      <th>v111</th>\n",
       "      <th>v112</th>\n",
       "      <th>v113</th>\n",
       "      <th>v114</th>\n",
       "      <th>v115</th>\n",
       "      <th>v116</th>\n",
       "      <th>v117</th>\n",
       "      <th>v118</th>\n",
       "      <th>v119</th>\n",
       "    </tr>\n",
       "    <tr>\n",
       "      <th>ID</th>\n",
       "      <th></th>\n",
       "      <th></th>\n",
       "      <th></th>\n",
       "      <th></th>\n",
       "      <th></th>\n",
       "      <th></th>\n",
       "      <th></th>\n",
       "      <th></th>\n",
       "      <th></th>\n",
       "      <th></th>\n",
       "      <th></th>\n",
       "      <th></th>\n",
       "      <th></th>\n",
       "      <th></th>\n",
       "      <th></th>\n",
       "      <th></th>\n",
       "      <th></th>\n",
       "      <th></th>\n",
       "      <th></th>\n",
       "      <th></th>\n",
       "      <th></th>\n",
       "    </tr>\n",
       "  </thead>\n",
       "  <tbody>\n",
       "    <tr>\n",
       "      <th>0_austin</th>\n",
       "      <td>0</td>\n",
       "      <td>0</td>\n",
       "      <td>0</td>\n",
       "      <td>0</td>\n",
       "      <td>0</td>\n",
       "      <td>0</td>\n",
       "      <td>0</td>\n",
       "      <td>0</td>\n",
       "      <td>0</td>\n",
       "      <td>0</td>\n",
       "      <td>...</td>\n",
       "      <td>0</td>\n",
       "      <td>0</td>\n",
       "      <td>0</td>\n",
       "      <td>0</td>\n",
       "      <td>0</td>\n",
       "      <td>0</td>\n",
       "      <td>0</td>\n",
       "      <td>0</td>\n",
       "      <td>0</td>\n",
       "      <td>0</td>\n",
       "    </tr>\n",
       "    <tr>\n",
       "      <th>1_austin</th>\n",
       "      <td>0</td>\n",
       "      <td>0</td>\n",
       "      <td>0</td>\n",
       "      <td>0</td>\n",
       "      <td>0</td>\n",
       "      <td>0</td>\n",
       "      <td>0</td>\n",
       "      <td>0</td>\n",
       "      <td>0</td>\n",
       "      <td>0</td>\n",
       "      <td>...</td>\n",
       "      <td>0</td>\n",
       "      <td>0</td>\n",
       "      <td>0</td>\n",
       "      <td>0</td>\n",
       "      <td>0</td>\n",
       "      <td>0</td>\n",
       "      <td>0</td>\n",
       "      <td>0</td>\n",
       "      <td>0</td>\n",
       "      <td>0</td>\n",
       "    </tr>\n",
       "    <tr>\n",
       "      <th>2_austin</th>\n",
       "      <td>0</td>\n",
       "      <td>0</td>\n",
       "      <td>0</td>\n",
       "      <td>0</td>\n",
       "      <td>0</td>\n",
       "      <td>0</td>\n",
       "      <td>0</td>\n",
       "      <td>0</td>\n",
       "      <td>0</td>\n",
       "      <td>0</td>\n",
       "      <td>...</td>\n",
       "      <td>0</td>\n",
       "      <td>0</td>\n",
       "      <td>0</td>\n",
       "      <td>0</td>\n",
       "      <td>0</td>\n",
       "      <td>0</td>\n",
       "      <td>0</td>\n",
       "      <td>0</td>\n",
       "      <td>0</td>\n",
       "      <td>0</td>\n",
       "    </tr>\n",
       "    <tr>\n",
       "      <th>3_austin</th>\n",
       "      <td>0</td>\n",
       "      <td>0</td>\n",
       "      <td>0</td>\n",
       "      <td>0</td>\n",
       "      <td>0</td>\n",
       "      <td>0</td>\n",
       "      <td>0</td>\n",
       "      <td>0</td>\n",
       "      <td>0</td>\n",
       "      <td>0</td>\n",
       "      <td>...</td>\n",
       "      <td>0</td>\n",
       "      <td>0</td>\n",
       "      <td>0</td>\n",
       "      <td>0</td>\n",
       "      <td>0</td>\n",
       "      <td>0</td>\n",
       "      <td>0</td>\n",
       "      <td>0</td>\n",
       "      <td>0</td>\n",
       "      <td>0</td>\n",
       "    </tr>\n",
       "    <tr>\n",
       "      <th>4_austin</th>\n",
       "      <td>0</td>\n",
       "      <td>0</td>\n",
       "      <td>0</td>\n",
       "      <td>0</td>\n",
       "      <td>0</td>\n",
       "      <td>0</td>\n",
       "      <td>0</td>\n",
       "      <td>0</td>\n",
       "      <td>0</td>\n",
       "      <td>0</td>\n",
       "      <td>...</td>\n",
       "      <td>0</td>\n",
       "      <td>0</td>\n",
       "      <td>0</td>\n",
       "      <td>0</td>\n",
       "      <td>0</td>\n",
       "      <td>0</td>\n",
       "      <td>0</td>\n",
       "      <td>0</td>\n",
       "      <td>0</td>\n",
       "      <td>0</td>\n",
       "    </tr>\n",
       "  </tbody>\n",
       "</table>\n",
       "<p>5 rows × 120 columns</p>\n",
       "</div>"
      ],
      "text/plain": [
       "          v0  v1  v2  v3  v4  v5  v6  v7  v8  v9  ...  v110  v111  v112  v113  \\\n",
       "ID                                                ...                           \n",
       "0_austin   0   0   0   0   0   0   0   0   0   0  ...     0     0     0     0   \n",
       "1_austin   0   0   0   0   0   0   0   0   0   0  ...     0     0     0     0   \n",
       "2_austin   0   0   0   0   0   0   0   0   0   0  ...     0     0     0     0   \n",
       "3_austin   0   0   0   0   0   0   0   0   0   0  ...     0     0     0     0   \n",
       "4_austin   0   0   0   0   0   0   0   0   0   0  ...     0     0     0     0   \n",
       "\n",
       "          v114  v115  v116  v117  v118  v119  \n",
       "ID                                            \n",
       "0_austin     0     0     0     0     0     0  \n",
       "1_austin     0     0     0     0     0     0  \n",
       "2_austin     0     0     0     0     0     0  \n",
       "3_austin     0     0     0     0     0     0  \n",
       "4_austin     0     0     0     0     0     0  \n",
       "\n",
       "[5 rows x 120 columns]"
      ]
     },
     "execution_count": 146,
     "metadata": {},
     "output_type": "execute_result"
    }
   ],
   "source": [
    "submission.head()"
   ]
  },
  {
   "cell_type": "markdown",
   "metadata": {},
   "source": [
    "# ONE Model for Each City:"
   ]
  },
  {
   "cell_type": "code",
   "execution_count": 148,
   "metadata": {},
   "outputs": [],
   "source": [
    "#from collections import defaultdict\n",
    "\n",
    "# def def_value():\n",
    "#     return \"Not Present\"\n",
    "\n",
    "# loss_cities = defaultdict(def_value)\n",
    "# dic = defaultdict(def_value) #key is city, value is [ground truth out list, prediction list]\n",
    "\n",
    "def train_model_everything(train_dataset, val_dataset, train_loader, val_loader):\n",
    "    # intialize a dataset (for each city)\n",
    "    #train_dataset_city  = ArgoverseDataset(city = city, split = \"train\") \n",
    "#      batch_sz = 4  # batch size \n",
    "#     train_loader_city = DataLoader(train_dataset_city, batch_size=batch_sz)\n",
    "    \n",
    "    \n",
    "    # intialize a dataset (for all) - did aready\n",
    "   \n",
    "    loss_lis = []\n",
    "    for epoch in range(30):\n",
    "\n",
    "        total_loss = 0\n",
    "        for i_batch, sample_batch in enumerate(train_loader):\n",
    "            inp, out = sample_batch\n",
    "            preds_city = pred(inp)\n",
    "            loss = ((preds_city - out) ** 2).sum()\n",
    "\n",
    "            opt.zero_grad()\n",
    "            loss.backward()\n",
    "            opt.step()\n",
    "\n",
    "            total_loss += loss.item()\n",
    "            loss_lis.append(loss.item())\n",
    "\n",
    "        print('epoch {} training loss: {}'.format(epoch, total_loss / (60 * len(train_dataset))))\n",
    "        #loss_cities[city] = loss_lis\n",
    "       \n",
    "    \n",
    "    #TRAINING PREDICTION FOR ALL:\n",
    "    #dic[city] = [[0], [0]]\n",
    "    prediction_train = []\n",
    "    true_train = []\n",
    "    batch_sz = 1  # batch size \n",
    "    train_loader_1 = DataLoader(train_dataset, batch_size=batch_sz)\n",
    "    \n",
    "    for i_batch, sample_batch in enumerate(train_loader_1):\n",
    "        inp, out = sample_batch\n",
    "        true_train.append(out)\n",
    "        prediction_train.append(pred(inp))\n",
    "    \n",
    "    \n",
    "    \n",
    "    #VALIDATION\n",
    "    \n",
    "    #print validation loss\n",
    "    #val_loader = DataLoader(val_dataset,batch_size=batch_sz)\n",
    "\n",
    "    val_loss = 0\n",
    "    for i_batch, sample_batch in enumerate(val_loader):\n",
    "        inp, out = sample_batch\n",
    "        preds = pred(inp)\n",
    "        loss = ((preds - out) ** 2).sum()\n",
    "\n",
    "        val_loss += loss.item()\n",
    "    print('validation loss: {}'.format(val_loss / (60 * len(val_dataset))))\n",
    "    \n",
    "    \n",
    "    \n",
    "#     #TESTING\n",
    "    \n",
    "#     test_dataset = ArgoverseDataset(split = \"test\")\n",
    "#     batch_sz = 1  # batch size \n",
    "#     test_loader = DataLoader(test_dataset,batch_size=batch_sz)\n",
    "\n",
    "#     preds = []\n",
    "    \n",
    "#     for i_batch, sample_batch in enumerate(test_loader):\n",
    "#         inp = sample_batch\n",
    "#         preds.append(pred(inp))\n",
    "\n",
    "#     #write to submission dataframe\n",
    "#     for i, p in enumerate(preds):\n",
    "#         new_p = p.reshape(-1, 120).float().tolist()[0]\n",
    "#         submission.iloc[i] = new_p\n",
    "        \n",
    "#     print() #print a new line to separate each city's model"
   ]
  },
  {
   "cell_type": "code",
   "execution_count": null,
   "metadata": {},
   "outputs": [
    {
     "name": "stdout",
     "output_type": "stream",
     "text": [
      "epoch 0 training loss: 353.26358886985315\n",
      "epoch 1 training loss: 216.08828861834232\n",
      "epoch 2 training loss: 188.77999643154794\n"
     ]
    }
   ],
   "source": [
    "#batch 4 epoch 10 with all data\n",
    "train_model_everything(train_dataset, val_dataset, train_loader, val_loader)"
   ]
  },
  {
   "cell_type": "code",
   "execution_count": 117,
   "metadata": {},
   "outputs": [],
   "source": [
    "def get_origin_test():\n",
    "    ROOT_PATH = \"./argo2/\"\n",
    "    cities = [\"austin\", \"miami\", \"pittsburgh\", \"dearborn\", \"washington-dc\", \"palo-alto\"]\n",
    "    all_inputs = []\n",
    "    \n",
    "    for city in cities:\n",
    "        f_in = ROOT_PATH + \"test\" + \"/\" + city + \"_inputs\"\n",
    "        inputs = pickle.load(open(f_in, \"rb\"))\n",
    "        inputs = inputs.tolist()\n",
    "        all_inputs.extend(inputs)\n",
    "    all_inputs = np.asarray(all_inputs)\n",
    "        \n",
    "    #get reletive position\n",
    "    origin = all_inputs[:,0,:]\n",
    "    return origin\n",
    "\n",
    "origin_test = get_origin_test()"
   ]
  },
  {
   "cell_type": "code",
   "execution_count": 136,
   "metadata": {},
   "outputs": [
    {
     "name": "stdout",
     "output_type": "stream",
     "text": [
      "\n"
     ]
    }
   ],
   "source": [
    "#TESTING\n",
    "test_dataset = ArgoverseDataset(split = \"test\")\n",
    "batch_sz = 1  # batch size \n",
    "test_loader = DataLoader(test_dataset,batch_size=batch_sz)\n",
    "\n",
    "preds = []\n",
    "    \n",
    "for i_batch, sample_batch in enumerate(test_loader):\n",
    "    inp = sample_batch\n",
    "    p = pred(inp)\n",
    "    absolute_p = p + torch.from_numpy(origin_test[i_batch])\n",
    "    preds.append(absolute_p)\n",
    "\n",
    "#write to submission dataframe\n",
    "for i, p in enumerate(preds):\n",
    "    new_p = p.reshape(-1, 120).float().tolist()[0]\n",
    "    submission.iloc[i] = new_p\n",
    "        \n",
    "print() #print a new line to separate each city's model"
   ]
  },
  {
   "cell_type": "code",
   "execution_count": 137,
   "metadata": {},
   "outputs": [
    {
     "data": {
      "text/html": [
       "<div>\n",
       "<style scoped>\n",
       "    .dataframe tbody tr th:only-of-type {\n",
       "        vertical-align: middle;\n",
       "    }\n",
       "\n",
       "    .dataframe tbody tr th {\n",
       "        vertical-align: top;\n",
       "    }\n",
       "\n",
       "    .dataframe thead th {\n",
       "        text-align: right;\n",
       "    }\n",
       "</style>\n",
       "<table border=\"1\" class=\"dataframe\">\n",
       "  <thead>\n",
       "    <tr style=\"text-align: right;\">\n",
       "      <th></th>\n",
       "      <th>v0</th>\n",
       "      <th>v1</th>\n",
       "      <th>v2</th>\n",
       "      <th>v3</th>\n",
       "      <th>v4</th>\n",
       "      <th>v5</th>\n",
       "      <th>v6</th>\n",
       "      <th>v7</th>\n",
       "      <th>v8</th>\n",
       "      <th>v9</th>\n",
       "      <th>...</th>\n",
       "      <th>v110</th>\n",
       "      <th>v111</th>\n",
       "      <th>v112</th>\n",
       "      <th>v113</th>\n",
       "      <th>v114</th>\n",
       "      <th>v115</th>\n",
       "      <th>v116</th>\n",
       "      <th>v117</th>\n",
       "      <th>v118</th>\n",
       "      <th>v119</th>\n",
       "    </tr>\n",
       "    <tr>\n",
       "      <th>ID</th>\n",
       "      <th></th>\n",
       "      <th></th>\n",
       "      <th></th>\n",
       "      <th></th>\n",
       "      <th></th>\n",
       "      <th></th>\n",
       "      <th></th>\n",
       "      <th></th>\n",
       "      <th></th>\n",
       "      <th></th>\n",
       "      <th></th>\n",
       "      <th></th>\n",
       "      <th></th>\n",
       "      <th></th>\n",
       "      <th></th>\n",
       "      <th></th>\n",
       "      <th></th>\n",
       "      <th></th>\n",
       "      <th></th>\n",
       "      <th></th>\n",
       "      <th></th>\n",
       "    </tr>\n",
       "  </thead>\n",
       "  <tbody>\n",
       "    <tr>\n",
       "      <th>0_austin</th>\n",
       "      <td>-13.197170</td>\n",
       "      <td>-567.461182</td>\n",
       "      <td>-13.943436</td>\n",
       "      <td>-567.213684</td>\n",
       "      <td>-14.708767</td>\n",
       "      <td>-567.014465</td>\n",
       "      <td>-15.428402</td>\n",
       "      <td>-566.776123</td>\n",
       "      <td>-16.228348</td>\n",
       "      <td>-566.386719</td>\n",
       "      <td>...</td>\n",
       "      <td>-51.520248</td>\n",
       "      <td>-553.134644</td>\n",
       "      <td>-52.180084</td>\n",
       "      <td>-552.909302</td>\n",
       "      <td>-52.593910</td>\n",
       "      <td>-552.682922</td>\n",
       "      <td>-52.955719</td>\n",
       "      <td>-552.506042</td>\n",
       "      <td>-53.140617</td>\n",
       "      <td>-552.514221</td>\n",
       "    </tr>\n",
       "    <tr>\n",
       "      <th>1_austin</th>\n",
       "      <td>-341.475922</td>\n",
       "      <td>12.494085</td>\n",
       "      <td>-341.139709</td>\n",
       "      <td>11.960777</td>\n",
       "      <td>-340.842957</td>\n",
       "      <td>11.890076</td>\n",
       "      <td>-340.330933</td>\n",
       "      <td>11.522419</td>\n",
       "      <td>-340.076294</td>\n",
       "      <td>10.856440</td>\n",
       "      <td>...</td>\n",
       "      <td>-307.956970</td>\n",
       "      <td>0.147953</td>\n",
       "      <td>-307.371033</td>\n",
       "      <td>-0.035663</td>\n",
       "      <td>-306.751434</td>\n",
       "      <td>0.015560</td>\n",
       "      <td>-306.357330</td>\n",
       "      <td>-0.133236</td>\n",
       "      <td>-306.261322</td>\n",
       "      <td>-0.456531</td>\n",
       "    </tr>\n",
       "    <tr>\n",
       "      <th>2_austin</th>\n",
       "      <td>51.484787</td>\n",
       "      <td>-248.085983</td>\n",
       "      <td>51.498783</td>\n",
       "      <td>-248.032440</td>\n",
       "      <td>51.495781</td>\n",
       "      <td>-248.015320</td>\n",
       "      <td>51.504292</td>\n",
       "      <td>-247.973190</td>\n",
       "      <td>51.522717</td>\n",
       "      <td>-247.929062</td>\n",
       "      <td>...</td>\n",
       "      <td>52.235241</td>\n",
       "      <td>-245.121353</td>\n",
       "      <td>52.330936</td>\n",
       "      <td>-245.022278</td>\n",
       "      <td>52.336460</td>\n",
       "      <td>-244.998810</td>\n",
       "      <td>52.352024</td>\n",
       "      <td>-244.961426</td>\n",
       "      <td>52.315811</td>\n",
       "      <td>-244.898972</td>\n",
       "    </tr>\n",
       "    <tr>\n",
       "      <th>3_austin</th>\n",
       "      <td>-113.879639</td>\n",
       "      <td>1798.687866</td>\n",
       "      <td>-113.850296</td>\n",
       "      <td>1798.809204</td>\n",
       "      <td>-113.799057</td>\n",
       "      <td>1798.941284</td>\n",
       "      <td>-113.782745</td>\n",
       "      <td>1799.082764</td>\n",
       "      <td>-113.744568</td>\n",
       "      <td>1799.258301</td>\n",
       "      <td>...</td>\n",
       "      <td>-111.244644</td>\n",
       "      <td>1810.416504</td>\n",
       "      <td>-111.254509</td>\n",
       "      <td>1810.629150</td>\n",
       "      <td>-111.211853</td>\n",
       "      <td>1810.793701</td>\n",
       "      <td>-111.150284</td>\n",
       "      <td>1810.944458</td>\n",
       "      <td>-111.089859</td>\n",
       "      <td>1810.998901</td>\n",
       "    </tr>\n",
       "    <tr>\n",
       "      <th>4_austin</th>\n",
       "      <td>1196.773438</td>\n",
       "      <td>-639.519592</td>\n",
       "      <td>1197.667725</td>\n",
       "      <td>-639.830261</td>\n",
       "      <td>1198.656860</td>\n",
       "      <td>-640.036133</td>\n",
       "      <td>1199.544922</td>\n",
       "      <td>-640.566223</td>\n",
       "      <td>1200.512817</td>\n",
       "      <td>-640.852783</td>\n",
       "      <td>...</td>\n",
       "      <td>1236.272217</td>\n",
       "      <td>-657.240051</td>\n",
       "      <td>1236.659912</td>\n",
       "      <td>-657.318054</td>\n",
       "      <td>1236.996826</td>\n",
       "      <td>-657.278870</td>\n",
       "      <td>1237.443970</td>\n",
       "      <td>-657.708191</td>\n",
       "      <td>1237.922485</td>\n",
       "      <td>-657.780640</td>\n",
       "    </tr>\n",
       "    <tr>\n",
       "      <th>...</th>\n",
       "      <td>...</td>\n",
       "      <td>...</td>\n",
       "      <td>...</td>\n",
       "      <td>...</td>\n",
       "      <td>...</td>\n",
       "      <td>...</td>\n",
       "      <td>...</td>\n",
       "      <td>...</td>\n",
       "      <td>...</td>\n",
       "      <td>...</td>\n",
       "      <td>...</td>\n",
       "      <td>...</td>\n",
       "      <td>...</td>\n",
       "      <td>...</td>\n",
       "      <td>...</td>\n",
       "      <td>...</td>\n",
       "      <td>...</td>\n",
       "      <td>...</td>\n",
       "      <td>...</td>\n",
       "      <td>...</td>\n",
       "      <td>...</td>\n",
       "    </tr>\n",
       "    <tr>\n",
       "      <th>1681_palo-alto</th>\n",
       "      <td>-1392.236572</td>\n",
       "      <td>-483.531311</td>\n",
       "      <td>-1392.957153</td>\n",
       "      <td>-484.720245</td>\n",
       "      <td>-1393.947388</td>\n",
       "      <td>-485.874420</td>\n",
       "      <td>-1394.779053</td>\n",
       "      <td>-487.169586</td>\n",
       "      <td>-1395.779541</td>\n",
       "      <td>-488.475220</td>\n",
       "      <td>...</td>\n",
       "      <td>-1443.771851</td>\n",
       "      <td>-557.686829</td>\n",
       "      <td>-1444.652588</td>\n",
       "      <td>-558.977844</td>\n",
       "      <td>-1445.634521</td>\n",
       "      <td>-560.260986</td>\n",
       "      <td>-1446.024048</td>\n",
       "      <td>-561.237976</td>\n",
       "      <td>-1446.538330</td>\n",
       "      <td>-561.958618</td>\n",
       "    </tr>\n",
       "    <tr>\n",
       "      <th>1682_palo-alto</th>\n",
       "      <td>129.059677</td>\n",
       "      <td>-20.664438</td>\n",
       "      <td>128.995743</td>\n",
       "      <td>-20.086493</td>\n",
       "      <td>129.518326</td>\n",
       "      <td>-19.291636</td>\n",
       "      <td>129.976257</td>\n",
       "      <td>-18.320673</td>\n",
       "      <td>130.482605</td>\n",
       "      <td>-17.791887</td>\n",
       "      <td>...</td>\n",
       "      <td>165.607773</td>\n",
       "      <td>26.940935</td>\n",
       "      <td>166.761612</td>\n",
       "      <td>27.516375</td>\n",
       "      <td>167.572357</td>\n",
       "      <td>27.857119</td>\n",
       "      <td>167.541260</td>\n",
       "      <td>28.407656</td>\n",
       "      <td>167.988251</td>\n",
       "      <td>28.659105</td>\n",
       "    </tr>\n",
       "    <tr>\n",
       "      <th>1683_palo-alto</th>\n",
       "      <td>-1437.632935</td>\n",
       "      <td>2160.177490</td>\n",
       "      <td>-1437.345337</td>\n",
       "      <td>2159.967041</td>\n",
       "      <td>-1436.974609</td>\n",
       "      <td>2159.636475</td>\n",
       "      <td>-1436.582031</td>\n",
       "      <td>2159.209473</td>\n",
       "      <td>-1436.164551</td>\n",
       "      <td>2158.947021</td>\n",
       "      <td>...</td>\n",
       "      <td>-1405.825073</td>\n",
       "      <td>2137.110596</td>\n",
       "      <td>-1405.127930</td>\n",
       "      <td>2136.800781</td>\n",
       "      <td>-1404.710327</td>\n",
       "      <td>2136.528320</td>\n",
       "      <td>-1404.051514</td>\n",
       "      <td>2136.290283</td>\n",
       "      <td>-1403.849976</td>\n",
       "      <td>2135.872559</td>\n",
       "    </tr>\n",
       "    <tr>\n",
       "      <th>1684_palo-alto</th>\n",
       "      <td>1072.467651</td>\n",
       "      <td>1398.425293</td>\n",
       "      <td>1073.049316</td>\n",
       "      <td>1398.991455</td>\n",
       "      <td>1073.683228</td>\n",
       "      <td>1399.659912</td>\n",
       "      <td>1074.320435</td>\n",
       "      <td>1400.212524</td>\n",
       "      <td>1074.805176</td>\n",
       "      <td>1400.794067</td>\n",
       "      <td>...</td>\n",
       "      <td>1105.734375</td>\n",
       "      <td>1431.670898</td>\n",
       "      <td>1106.140991</td>\n",
       "      <td>1432.142578</td>\n",
       "      <td>1106.582764</td>\n",
       "      <td>1432.592285</td>\n",
       "      <td>1106.920044</td>\n",
       "      <td>1432.938477</td>\n",
       "      <td>1107.317627</td>\n",
       "      <td>1433.148438</td>\n",
       "    </tr>\n",
       "    <tr>\n",
       "      <th>1685_palo-alto</th>\n",
       "      <td>-36.020607</td>\n",
       "      <td>418.401276</td>\n",
       "      <td>-34.767570</td>\n",
       "      <td>417.679199</td>\n",
       "      <td>-33.477432</td>\n",
       "      <td>416.927246</td>\n",
       "      <td>-32.172356</td>\n",
       "      <td>415.907532</td>\n",
       "      <td>-30.819056</td>\n",
       "      <td>415.211548</td>\n",
       "      <td>...</td>\n",
       "      <td>29.263861</td>\n",
       "      <td>373.169830</td>\n",
       "      <td>30.284948</td>\n",
       "      <td>372.571899</td>\n",
       "      <td>30.857718</td>\n",
       "      <td>372.230286</td>\n",
       "      <td>31.600393</td>\n",
       "      <td>371.840302</td>\n",
       "      <td>32.316719</td>\n",
       "      <td>371.410614</td>\n",
       "    </tr>\n",
       "  </tbody>\n",
       "</table>\n",
       "<p>29843 rows × 120 columns</p>\n",
       "</div>"
      ],
      "text/plain": [
       "                         v0           v1           v2           v3  \\\n",
       "ID                                                                   \n",
       "0_austin         -13.197170  -567.461182   -13.943436  -567.213684   \n",
       "1_austin        -341.475922    12.494085  -341.139709    11.960777   \n",
       "2_austin          51.484787  -248.085983    51.498783  -248.032440   \n",
       "3_austin        -113.879639  1798.687866  -113.850296  1798.809204   \n",
       "4_austin        1196.773438  -639.519592  1197.667725  -639.830261   \n",
       "...                     ...          ...          ...          ...   \n",
       "1681_palo-alto -1392.236572  -483.531311 -1392.957153  -484.720245   \n",
       "1682_palo-alto   129.059677   -20.664438   128.995743   -20.086493   \n",
       "1683_palo-alto -1437.632935  2160.177490 -1437.345337  2159.967041   \n",
       "1684_palo-alto  1072.467651  1398.425293  1073.049316  1398.991455   \n",
       "1685_palo-alto   -36.020607   418.401276   -34.767570   417.679199   \n",
       "\n",
       "                         v4           v5           v6           v7  \\\n",
       "ID                                                                   \n",
       "0_austin         -14.708767  -567.014465   -15.428402  -566.776123   \n",
       "1_austin        -340.842957    11.890076  -340.330933    11.522419   \n",
       "2_austin          51.495781  -248.015320    51.504292  -247.973190   \n",
       "3_austin        -113.799057  1798.941284  -113.782745  1799.082764   \n",
       "4_austin        1198.656860  -640.036133  1199.544922  -640.566223   \n",
       "...                     ...          ...          ...          ...   \n",
       "1681_palo-alto -1393.947388  -485.874420 -1394.779053  -487.169586   \n",
       "1682_palo-alto   129.518326   -19.291636   129.976257   -18.320673   \n",
       "1683_palo-alto -1436.974609  2159.636475 -1436.582031  2159.209473   \n",
       "1684_palo-alto  1073.683228  1399.659912  1074.320435  1400.212524   \n",
       "1685_palo-alto   -33.477432   416.927246   -32.172356   415.907532   \n",
       "\n",
       "                         v8           v9  ...         v110         v111  \\\n",
       "ID                                        ...                             \n",
       "0_austin         -16.228348  -566.386719  ...   -51.520248  -553.134644   \n",
       "1_austin        -340.076294    10.856440  ...  -307.956970     0.147953   \n",
       "2_austin          51.522717  -247.929062  ...    52.235241  -245.121353   \n",
       "3_austin        -113.744568  1799.258301  ...  -111.244644  1810.416504   \n",
       "4_austin        1200.512817  -640.852783  ...  1236.272217  -657.240051   \n",
       "...                     ...          ...  ...          ...          ...   \n",
       "1681_palo-alto -1395.779541  -488.475220  ... -1443.771851  -557.686829   \n",
       "1682_palo-alto   130.482605   -17.791887  ...   165.607773    26.940935   \n",
       "1683_palo-alto -1436.164551  2158.947021  ... -1405.825073  2137.110596   \n",
       "1684_palo-alto  1074.805176  1400.794067  ...  1105.734375  1431.670898   \n",
       "1685_palo-alto   -30.819056   415.211548  ...    29.263861   373.169830   \n",
       "\n",
       "                       v112         v113         v114         v115  \\\n",
       "ID                                                                   \n",
       "0_austin         -52.180084  -552.909302   -52.593910  -552.682922   \n",
       "1_austin        -307.371033    -0.035663  -306.751434     0.015560   \n",
       "2_austin          52.330936  -245.022278    52.336460  -244.998810   \n",
       "3_austin        -111.254509  1810.629150  -111.211853  1810.793701   \n",
       "4_austin        1236.659912  -657.318054  1236.996826  -657.278870   \n",
       "...                     ...          ...          ...          ...   \n",
       "1681_palo-alto -1444.652588  -558.977844 -1445.634521  -560.260986   \n",
       "1682_palo-alto   166.761612    27.516375   167.572357    27.857119   \n",
       "1683_palo-alto -1405.127930  2136.800781 -1404.710327  2136.528320   \n",
       "1684_palo-alto  1106.140991  1432.142578  1106.582764  1432.592285   \n",
       "1685_palo-alto    30.284948   372.571899    30.857718   372.230286   \n",
       "\n",
       "                       v116         v117         v118         v119  \n",
       "ID                                                                  \n",
       "0_austin         -52.955719  -552.506042   -53.140617  -552.514221  \n",
       "1_austin        -306.357330    -0.133236  -306.261322    -0.456531  \n",
       "2_austin          52.352024  -244.961426    52.315811  -244.898972  \n",
       "3_austin        -111.150284  1810.944458  -111.089859  1810.998901  \n",
       "4_austin        1237.443970  -657.708191  1237.922485  -657.780640  \n",
       "...                     ...          ...          ...          ...  \n",
       "1681_palo-alto -1446.024048  -561.237976 -1446.538330  -561.958618  \n",
       "1682_palo-alto   167.541260    28.407656   167.988251    28.659105  \n",
       "1683_palo-alto -1404.051514  2136.290283 -1403.849976  2135.872559  \n",
       "1684_palo-alto  1106.920044  1432.938477  1107.317627  1433.148438  \n",
       "1685_palo-alto    31.600393   371.840302    32.316719   371.410614  \n",
       "\n",
       "[29843 rows x 120 columns]"
      ]
     },
     "execution_count": 137,
     "metadata": {},
     "output_type": "execute_result"
    }
   ],
   "source": [
    "submission"
   ]
  },
  {
   "cell_type": "code",
   "execution_count": 321,
   "metadata": {},
   "outputs": [
    {
     "name": "stdout",
     "output_type": "stream",
     "text": [
      "city miami epoch 0 training loss: 1221680.4486225038\n",
      "city miami epoch 1 training loss: 712882.6626987368\n",
      "city miami epoch 2 training loss: 596455.2092065617\n",
      "city miami epoch 3 training loss: 659949.1161173377\n",
      "city miami epoch 4 training loss: 525194.3423403786\n",
      "city miami epoch 5 training loss: 476422.4939103737\n",
      "city miami epoch 6 training loss: 473476.14383587026\n",
      "city miami epoch 7 training loss: 389120.55045063223\n",
      "city miami epoch 8 training loss: 382508.3598424436\n",
      "city miami epoch 9 training loss: 436889.8482517873\n",
      "city miami validation loss: 153395.8440513946\n",
      "\n",
      "city pittsburgh epoch 0 training loss: 144808.77951689484\n",
      "city pittsburgh epoch 1 training loss: 119597.74660345145\n",
      "city pittsburgh epoch 2 training loss: 113785.15969828705\n",
      "city pittsburgh epoch 3 training loss: 108558.862906705\n",
      "city pittsburgh epoch 4 training loss: 102273.97453997703\n",
      "city pittsburgh epoch 5 training loss: 96662.46249093719\n",
      "city pittsburgh epoch 6 training loss: 93879.10755723916\n",
      "city pittsburgh epoch 7 training loss: 89382.0114917252\n",
      "city pittsburgh epoch 8 training loss: 88410.57106155055\n",
      "city pittsburgh epoch 9 training loss: 84501.6307324813\n",
      "city pittsburgh validation loss: 37684.13890054128\n",
      "\n",
      "city dearborn epoch 0 training loss: 357535.32326044526\n",
      "city dearborn epoch 1 training loss: 242941.74000249794\n",
      "city dearborn epoch 2 training loss: 236843.0996114032\n",
      "city dearborn epoch 3 training loss: 226365.03409643692\n",
      "city dearborn epoch 4 training loss: 232282.79311424136\n",
      "city dearborn epoch 5 training loss: 226981.8271886073\n",
      "city dearborn epoch 6 training loss: 215202.47056470736\n",
      "city dearborn epoch 7 training loss: 217100.1913040404\n",
      "city dearborn epoch 8 training loss: 222160.97740265608\n",
      "city dearborn epoch 9 training loss: 214277.5449552742\n",
      "city dearborn validation loss: 398255.1206892293\n",
      "\n",
      "city washington-dc epoch 0 training loss: 92508.51352103619\n",
      "city washington-dc epoch 1 training loss: 88088.72708854068\n",
      "city washington-dc epoch 2 training loss: 76977.58533234122\n",
      "city washington-dc epoch 3 training loss: 74195.05580865896\n",
      "city washington-dc epoch 4 training loss: 73054.83959499815\n",
      "city washington-dc epoch 5 training loss: 87264.26932900593\n",
      "city washington-dc epoch 6 training loss: 79126.22150149933\n",
      "city washington-dc epoch 7 training loss: 74311.15326681362\n",
      "city washington-dc epoch 8 training loss: 68710.67789450371\n",
      "city washington-dc epoch 9 training loss: 71539.40369186216\n",
      "city washington-dc validation loss: 71997.76245999186\n",
      "\n",
      "city palo-alto epoch 0 training loss: 532934.0271656344\n",
      "city palo-alto epoch 1 training loss: 218042.700567286\n",
      "city palo-alto epoch 2 training loss: 196189.16649620712\n",
      "city palo-alto epoch 3 training loss: 161977.20637827352\n",
      "city palo-alto epoch 4 training loss: 149199.11625747994\n",
      "city palo-alto epoch 5 training loss: 134299.27190278698\n",
      "city palo-alto epoch 6 training loss: 118544.47860645631\n",
      "city palo-alto epoch 7 training loss: 101798.0567760264\n",
      "city palo-alto epoch 8 training loss: 97152.20210880107\n",
      "city palo-alto epoch 9 training loss: 112916.50357546943\n",
      "city palo-alto validation loss: 78355.09308549995\n",
      "\n"
     ]
    }
   ],
   "source": [
    "#for each city\n",
    "for city in cities:\n",
    "    train_model_everything(city)"
   ]
  },
  {
   "cell_type": "markdown",
   "metadata": {},
   "source": [
    "error tracker:\n",
    "\n",
    "#### starter code: loss: 243130.4356045948\n",
    "\n",
    "#### add one more linear (32, 16): loss: 234230.23708092162 changed to 356302.6224735306 -> 150056.00799303368 (austin)\n",
    "\n",
    "#### add one more linear (16, 8): loss: 369038.9848585346\n",
    "\n",
    "#### add nn.Dropout() at the end: loss: 139978361.54504338\n",
    "\n",
    "### Model for each city:\n",
    "\n",
    "#### - 20 epoch and 4 batch: test loss on kaggle 544.36019 - linear layer to 16\n",
    "\n",
    "city miami validation loss: 98559.84710601612\n",
    "\n",
    "city pittsburgh validation loss: 25172.430871449083\n",
    "\n",
    "city dearborn validation loss: 83256.51160414904\n",
    "\n",
    "city washington-dc validation loss: 59926.98202549418\n",
    "\n",
    "city palo-alto validation loss: 46965.97407317254\n",
    "\n",
    "#### - 20 epoch and 64 batch: test loss on kaggle 1113.73683\n",
    "\n",
    "city austin validation loss: 279558.9845237329\n",
    "\n",
    "city miami validation loss: 86737.02004293026\n",
    "\n",
    "city pittsburgh validation loss: 159859.5950301462\n",
    "\n",
    "city dearborn validation loss: 64473.38859815645\n",
    "\n",
    "city washington-dc validation loss: 30957.191266277485\n",
    "\n",
    "city palo-alto validation loss: 73393.81933790389\n",
    "\n",
    "#### - 25 epoch and 3 batch:\n",
    "\n",
    "city austin validation loss: 52911.8008622041\n",
    "\n",
    "city miami validation loss: 88357.98424714322\n",
    "\n",
    "Tuesday, May 24:\n",
    "#### - initial normalized try: kaggle score: 23183447.53915\n",
    " \n",
    "#### - 10 epoch 4 batch linear model, normalized on the np.array using mean on x and y for train input only: kaggle: 258629573215727.00000\n",
    " \n",
    "city austin validation loss: 157670.7402768396\n",
    "\n",
    "city miami validation loss: 1959592.4231443857\n",
    "\n",
    "city pittsburgh validation loss: 91227.79281190076\n",
    "\n",
    "city dearborn validation loss: 2523215.6038076165\n",
    "\n",
    "city washington-dc validation loss: 276523.54118590296\n",
    "\n",
    "city palo-alto validation loss: 178981.39781201252\n",
    "\n",
    "#### - 10 epoch 4 batch linear model, normalized on the np.array using mean on x and y for train & test input (kaggle: thousands)\n",
    "\n",
    "city austin validation loss: 159895.71514608504\n",
    "\n",
    "city miami validation loss: 2325600.779936006\n",
    "\n",
    "city pittsburgh validation loss: 96821.91801933691\n",
    "\n",
    "city dearborn validation loss: 1775521.5025307538\n",
    "\n",
    "city washington-dc validation loss: 198954.68477373937\n",
    "\n",
    "city palo-alto validation loss: 148117.14359715945\n",
    "\n",
    "\n",
    "#### - 10 epoch 4 batch with increasing number in linear layers (3 layers ) Kaggle: 1436.45145\n",
    "\n",
    "city austin validation loss: 183433.64480003214\n",
    "\n",
    "city miami validation loss: 386331.1446056165\n",
    "\n",
    "city pittsburgh validation loss: 29015.535780647027\n",
    "\n",
    "city dearborn validation loss: 185450.14339038482\n",
    "\n",
    "city washington-dc validation loss: 45704.22556038866\n",
    "\n",
    "city palo-alto validation loss: 49480.62240936941\n",
    "\n",
    "\n",
    "- other pre-processing?\n",
    "- normalization has worse scores (batch norm?)\n",
    "- increasing / decreasing num in layer\n",
    "- city feature? \n",
    "\n",
    "Thursday, May 26:\n",
    "#### fixed loss func: 60 epch Kaggle: 431.85858 (best so far)\n",
    "\n",
    "#### fixed loss func: all city together 1 epoch: kaggle: 4881\n",
    "\n",
    "training loss: 3148.764601363746\n",
    " \n",
    "validation loss: 2028.2194615384844\n",
    "\n",
    "#### all cities together 20 epoch: 1296 train, 924 valid, kaggle \n",
    "\n",
    "May 28\n",
    "\n",
    "#### 40 epoch, 3000 batches Linear Kaggle: 395.99066 (valid: 800)\n",
    "\n",
    "### relative position: 58 train, 65 valid, 15 epoch, 4 batch"
   ]
  },
  {
   "cell_type": "markdown",
   "metadata": {},
   "source": [
    "## randomly choose from training set and plot the ground truth and prediction trajectories"
   ]
  },
  {
   "cell_type": "code",
   "execution_count": 300,
   "metadata": {},
   "outputs": [],
   "source": [
    "from random import *\n",
    "def plot_truth_prediction(city):\n",
    "    \n",
    "    fig, axs = plt.subplots(1,2, figsize=(15, 3), facecolor='w', edgecolor='k')\n",
    "    fig.subplots_adjust(hspace = .5, wspace=.001)\n",
    "    axs = axs.ravel()  \n",
    "    \n",
    "\n",
    "    idx = randint(0, int(55029 * 0.8 - 1))\n",
    "    truth = dic[city][0][idx]\n",
    "    prediction = dic[city][1][idx]\n",
    "\n",
    "    truth_array = np.array(truth.tolist()[0])\n",
    "    prediction_array = np.array(prediction.tolist()[0])\n",
    "\n",
    "\n",
    "    axs[0].xaxis.set_ticks([])\n",
    "    axs[0].yaxis.set_ticks([])\n",
    "\n",
    "    axs[0].scatter(truth_array[:,0], truth_array[:,1], color='green')\n",
    "    axs[0].set_title(city + ' Ground truth output')\n",
    "\n",
    "    axs[1].xaxis.set_ticks([])\n",
    "    axs[1].yaxis.set_ticks([])\n",
    "\n",
    "    axs[1].scatter(prediction_array[:,0], prediction_array[:,1], color='green')\n",
    "    axs[1].set_title(city + ' Predicted trajectory')\n",
    "    "
   ]
  },
  {
   "cell_type": "code",
   "execution_count": 301,
   "metadata": {},
   "outputs": [
    {
     "data": {
      "text/plain": [
       "['austin', 'miami', 'pittsburgh', 'dearborn', 'washington-dc', 'palo-alto']"
      ]
     },
     "execution_count": 301,
     "metadata": {},
     "output_type": "execute_result"
    }
   ],
   "source": [
    "cities"
   ]
  },
  {
   "cell_type": "code",
   "execution_count": 303,
   "metadata": {},
   "outputs": [
    {
     "data": {
      "image/png": "[encoded data removed]",
      "text/plain": [
       "<Figure size 1080x216 with 2 Axes>"
      ]
     },
     "metadata": {},
     "output_type": "display_data"
    }
   ],
   "source": [
    "plot_truth_prediction('austin')"
   ]
  },
  {
   "cell_type": "code",
   "execution_count": 223,
   "metadata": {},
   "outputs": [
    {
     "data": {
      "image/png": "[encoded data removed]",
      "text/plain": [
       "<Figure size 1080x216 with 2 Axes>"
      ]
     },
     "metadata": {},
     "output_type": "display_data"
    }
   ],
   "source": [
    "plot_truth_prediction('miami')"
   ]
  },
  {
   "cell_type": "code",
   "execution_count": 224,
   "metadata": {},
   "outputs": [
    {
     "data": {
      "image/png": "[encoded data removed]",
      "text/plain": [
       "<Figure size 1080x216 with 2 Axes>"
      ]
     },
     "metadata": {},
     "output_type": "display_data"
    }
   ],
   "source": [
    "plot_truth_prediction('pittsburgh')"
   ]
  },
  {
   "cell_type": "code",
   "execution_count": 237,
   "metadata": {},
   "outputs": [
    {
     "data": {
      "image/png": "[encoded data removed]",
      "text/plain": [
       "<Figure size 1080x216 with 2 Axes>"
      ]
     },
     "metadata": {},
     "output_type": "display_data"
    }
   ],
   "source": [
    "plot_truth_prediction('dearborn')"
   ]
  },
  {
   "cell_type": "code",
   "execution_count": 239,
   "metadata": {},
   "outputs": [
    {
     "data": {
      "image/png": "[encoded data removed]",
      "text/plain": [
       "<Figure size 1080x216 with 2 Axes>"
      ]
     },
     "metadata": {},
     "output_type": "display_data"
    }
   ],
   "source": [
    "plot_truth_prediction('washington-dc')"
   ]
  },
  {
   "cell_type": "code",
   "execution_count": 251,
   "metadata": {},
   "outputs": [
    {
     "data": {
      "image/png": "[encoded data removed]",
      "text/plain": [
       "<Figure size 1080x216 with 2 Axes>"
      ]
     },
     "metadata": {},
     "output_type": "display_data"
    }
   ],
   "source": [
    "plot_truth_prediction('palo-alto')"
   ]
  },
  {
   "cell_type": "markdown",
   "metadata": {},
   "source": [
    "## Plot Training Loss over Step for each city"
   ]
  },
  {
   "cell_type": "code",
   "execution_count": 90,
   "metadata": {},
   "outputs": [
    {
     "ename": "NameError",
     "evalue": "name 'loss_list_cities' is not defined",
     "output_type": "error",
     "traceback": [
      "\u001b[0;31m---------------------------------------------------------------------------\u001b[0m",
      "\u001b[0;31mNameError\u001b[0m                                 Traceback (most recent call last)",
      "\u001b[0;32m<ipython-input-90-5c36877e9f1c>\u001b[0m in \u001b[0;36m<module>\u001b[0;34m\u001b[0m\n\u001b[0;32m----> 1\u001b[0;31m \u001b[0mplt\u001b[0m\u001b[0;34m.\u001b[0m\u001b[0mplot\u001b[0m\u001b[0;34m(\u001b[0m\u001b[0mloss_list_cities\u001b[0m\u001b[0;34m[\u001b[0m\u001b[0;36m0\u001b[0m\u001b[0;34m]\u001b[0m\u001b[0;34m)\u001b[0m\u001b[0;34m\u001b[0m\u001b[0;34m\u001b[0m\u001b[0m\n\u001b[0m\u001b[1;32m      2\u001b[0m \u001b[0mplt\u001b[0m\u001b[0;34m.\u001b[0m\u001b[0mtitle\u001b[0m\u001b[0;34m(\u001b[0m\u001b[0;34m\"Austin Loss\"\u001b[0m\u001b[0;34m)\u001b[0m\u001b[0;34m\u001b[0m\u001b[0;34m\u001b[0m\u001b[0m\n",
      "\u001b[0;31mNameError\u001b[0m: name 'loss_list_cities' is not defined"
     ]
    }
   ],
   "source": [
    "plt.plot(loss_list_cities[0])\n",
    "plt.title(\"Austin Loss\")"
   ]
  },
  {
   "cell_type": "code",
   "execution_count": 691,
   "metadata": {},
   "outputs": [
    {
     "data": {
      "text/plain": [
       "Text(0.5, 1.0, 'Miami Loss')"
      ]
     },
     "execution_count": 691,
     "metadata": {},
     "output_type": "execute_result"
    },
    {
     "data": {
      "image/png": "[encoded data removed]",
      "text/plain": [
       "<Figure size 432x288 with 1 Axes>"
      ]
     },
     "metadata": {
      "needs_background": "light"
     },
     "output_type": "display_data"
    }
   ],
   "source": [
    "plt.plot(loss_list_cities[1])\n",
    "plt.title(\"Miami Loss\")"
   ]
  },
  {
   "cell_type": "code",
   "execution_count": 692,
   "metadata": {},
   "outputs": [
    {
     "data": {
      "text/plain": [
       "Text(0.5, 1.0, 'Pittsburgh Loss')"
      ]
     },
     "execution_count": 692,
     "metadata": {},
     "output_type": "execute_result"
    },
    {
     "data": {
      "image/png": "[encoded data removed]",
      "text/plain": [
       "<Figure size 432x288 with 1 Axes>"
      ]
     },
     "metadata": {
      "needs_background": "light"
     },
     "output_type": "display_data"
    }
   ],
   "source": [
    "plt.plot(loss_list_cities[2])\n",
    "plt.title(\"Pittsburgh Loss\")"
   ]
  },
  {
   "cell_type": "code",
   "execution_count": 694,
   "metadata": {},
   "outputs": [
    {
     "data": {
      "text/plain": [
       "Text(0.5, 1.0, 'Dearborn Loss')"
      ]
     },
     "execution_count": 694,
     "metadata": {},
     "output_type": "execute_result"
    },
    {
     "data": {
      "image/png": "[encoded data removed]",
      "text/plain": [
       "<Figure size 432x288 with 1 Axes>"
      ]
     },
     "metadata": {
      "needs_background": "light"
     },
     "output_type": "display_data"
    }
   ],
   "source": [
    "plt.plot(loss_list_cities[3])\n",
    "plt.title(\"Dearborn Loss\")"
   ]
  },
  {
   "cell_type": "code",
   "execution_count": 695,
   "metadata": {},
   "outputs": [
    {
     "data": {
      "text/plain": [
       "Text(0.5, 1.0, 'Washington-dc Loss')"
      ]
     },
     "execution_count": 695,
     "metadata": {},
     "output_type": "execute_result"
    },
    {
     "data": {
      "image/png": "[encoded data removed]",
      "text/plain": [
       "<Figure size 432x288 with 1 Axes>"
      ]
     },
     "metadata": {
      "needs_background": "light"
     },
     "output_type": "display_data"
    }
   ],
   "source": [
    "plt.plot(loss_list_cities[4])\n",
    "plt.title(\"Washington-dc Loss\")"
   ]
  },
  {
   "cell_type": "code",
   "execution_count": 696,
   "metadata": {},
   "outputs": [
    {
     "data": {
      "text/plain": [
       "Text(0.5, 1.0, 'Palo-alto Loss')"
      ]
     },
     "execution_count": 696,
     "metadata": {},
     "output_type": "execute_result"
    },
    {
     "data": {
      "image/png": "[encoded data removed]",
      "text/plain": [
       "<Figure size 432x288 with 1 Axes>"
      ]
     },
     "metadata": {
      "needs_background": "light"
     },
     "output_type": "display_data"
    }
   ],
   "source": [
    "plt.plot(loss_list_cities[5])\n",
    "plt.title(\"Palo-alto Loss\")"
   ]
  },
  {
   "cell_type": "code",
   "execution_count": null,
   "metadata": {},
   "outputs": [],
   "source": []
  },
  {
   "cell_type": "markdown",
   "metadata": {},
   "source": [
    "## write predictions on test set to csv file "
   ]
  },
  {
   "cell_type": "code",
   "execution_count": 138,
   "metadata": {},
   "outputs": [],
   "source": [
    "from pathlib import Path  \n",
    "filepath = Path('./argo2/out.csv')  \n",
    "submission.to_csv(filepath)"
   ]
  },
  {
   "cell_type": "markdown",
   "metadata": {},
   "source": [
    "old code on writing to submission dataframe and csv file:"
   ]
  },
  {
   "cell_type": "code",
   "execution_count": 560,
   "metadata": {},
   "outputs": [],
   "source": [
    "### Get the prediction and write to the dataFrame\n",
    "# def get_pred(city):\n",
    "#     test_dataset = ArgoverseDataset(city = city, split = \"test\")\n",
    "#     batch_sz = 1  # batch size \n",
    "#     test_loader = DataLoader(test_dataset,batch_size=batch_sz)\n",
    "    \n",
    "#     for i_batch, sample_batch in enumerate(test_loader):\n",
    "#         inp = sample_batch\n",
    "        \n",
    "#     preds = []\n",
    "#     test_loss = 0\n",
    "#     for i_batch, sample_batch in enumerate(test_loader):\n",
    "#         inp = sample_batch\n",
    "#         preds.append(pred(inp))\n",
    "        \n",
    "#     return preds"
   ]
  },
  {
   "cell_type": "code",
   "execution_count": 561,
   "metadata": {},
   "outputs": [],
   "source": [
    "# submission = pd.read_csv('./argo2/sample_submission.csv')"
   ]
  },
  {
   "cell_type": "code",
   "execution_count": 562,
   "metadata": {},
   "outputs": [],
   "source": [
    "# submission = submission.set_index(\"ID\")"
   ]
  },
  {
   "cell_type": "code",
   "execution_count": 563,
   "metadata": {},
   "outputs": [],
   "source": [
    "# cities = ['austin', 'dearborn', 'miami', 'palo-alto', 'pittsburgh', 'washington-dc']\n",
    "\n",
    "# for city in cities:\n",
    "#     preds = get_pred(city)\n",
    "#     for i, p in enumerate(preds):\n",
    "#         new_p = p.reshape(-1, 120).float().tolist()[0]\n",
    "#         submission.loc[str(i)+'_'+city] = new_p"
   ]
  },
  {
   "cell_type": "code",
   "execution_count": 564,
   "metadata": {},
   "outputs": [],
   "source": [
    "# from pathlib import Path  \n",
    "# filepath = Path('./argo2/out.csv')  \n",
    "# submission.to_csv(filepath)"
   ]
  },
  {
   "cell_type": "markdown",
   "metadata": {},
   "source": [
    "# EDA: the distribution of input/output positions for all agents"
   ]
  },
  {
   "cell_type": "code",
   "execution_count": 68,
   "metadata": {},
   "outputs": [],
   "source": [
    "import seaborn as sns\n",
    "\n",
    "def get_pivot(city, all_cities=False):\n",
    "    cities = ['austin', 'dearborn', 'miami', 'palo-alto', 'pittsburgh', 'washington-dc']\n",
    "    ROOT_PATH = \"./argo2/\"\n",
    "    \n",
    "    all_inputs = []\n",
    "    all_outputs = []\n",
    "\n",
    "    def get_data(city):\n",
    "        \n",
    "        f_in = ROOT_PATH + \"train/\" + city + \"_inputs\"\n",
    "        inputs = pickle.load(open(f_in, \"rb\"))\n",
    "        \n",
    "        f_out = ROOT_PATH + \"train/\" + city + \"_outputs\"\n",
    "        outputs = pickle.load(open(f_out, \"rb\"))\n",
    "        \n",
    "        #get reletive position\n",
    "        origin = inputs[:,0,:]\n",
    "\n",
    "        new_origin = inputs.copy()\n",
    "        for j,d in enumerate(new_origin):\n",
    "            for i,d in enumerate(new_origin[j]):\n",
    "                new_origin[j][i] = origin[j]\n",
    "        relative_inp = inputs - new_origin\n",
    "\n",
    "        if outputs is not None:\n",
    "            new_origin_out = outputs.copy()\n",
    "            for j,d in enumerate(new_origin_out):\n",
    "                for i,d in enumerate(new_origin_out[j]):\n",
    "                    new_origin_out[j][i] = origin[j]\n",
    "            relative_out = outputs - new_origin_out\n",
    "        \n",
    "        all_inputs.extend(relative_inp)\n",
    "        all_outputs.extend(relative_out)\n",
    "        \n",
    "\n",
    "    if all_cities == False:\n",
    "        get_data(city)\n",
    "    elif all_cities == True:\n",
    "        for c in cities:\n",
    "            get_data(c)\n",
    "        \n",
    "    #convert to array\n",
    "    inputs_array = np.asarray(all_inputs)\n",
    "    outputs_array = np.asarray(all_outputs)\n",
    "\n",
    "    #reshape so that its one dim for all cities\n",
    "    n, t, d = inputs_array.shape\n",
    "    allTimes_inputs_array = inputs_array.reshape(n*t, d)\n",
    "    n, t, d = outputs_array.shape\n",
    "    allTimes_outputs_array = outputs_array.reshape(n*t, d)\n",
    "\n",
    "    #put x and y in groups\n",
    "    #and convert the groups back (*100)\n",
    "    df_input = pd.DataFrame(data=allTimes_inputs_array, columns=['x', 'y'])\n",
    "    df_input['x_groups'] = 5 * (df_input.x // 5)\n",
    "    df_input['y_groups'] = 5 * (df_input.y // 5)\n",
    "\n",
    "    df_output = pd.DataFrame(data=allTimes_outputs_array, columns=['x', 'y'])\n",
    "    df_output['x_groups'] = 5 * (df_output.x // 5)\n",
    "    df_output['y_groups'] = 5 * (df_output.y // 5)\n",
    "\n",
    "    #get the counts for each (x, y) group\n",
    "    df_input_new = df_input.groupby(['x_groups', 'y_groups']).size()\n",
    "    df_input_new = pd.DataFrame(df_input_new)\n",
    "\n",
    "    df_input_new.columns = ['counts']\n",
    "    df_input_new = df_input_new.reset_index()\n",
    "\n",
    "    df_output_new = df_output.groupby(['x_groups', 'y_groups']).size()\n",
    "    df_output_new = pd.DataFrame(df_output_new)\n",
    "    df_output_new.columns = ['counts']\n",
    "    df_output_new = df_output_new.reset_index()\n",
    "\n",
    "    #pivot\n",
    "    df_input_plot = df_input_new.pivot(index='x_groups', columns='y_groups', values='counts')\n",
    "    df_output_plot = df_output_new.pivot(index='x_groups', columns='y_groups', values='counts')\n",
    "    return df_input_plot, df_output_plot\n",
    "    \n",
    "def plot_heatmap(city, all_cities=False):\n",
    "    \n",
    "    df_input_plot, df_output_plot = get_pivot(city, all_cities)\n",
    "    \n",
    "    fig, axes = plt.subplots(ncols=2, figsize=(16, 6))\n",
    "    fig.subplots_adjust(wspace=.2)\n",
    "    ax1, ax2 = axes\n",
    "    \n",
    "    #heatmap for input & output position\n",
    "    sns.heatmap(df_input_plot, cmap = \"coolwarm\", ax = ax1).invert_yaxis()\n",
    "    ax1.set_title(\"All input\", y=-.3)\n",
    "    \n",
    "    sns.heatmap(df_output_plot, cmap = \"coolwarm\", ax = ax2).invert_yaxis()\n",
    "    ax2.set_title(\"All output \", y=-.3)\n",
    "    plt.show()\n",
    "\n"
   ]
  },
  {
   "cell_type": "code",
   "execution_count": 69,
   "metadata": {},
   "outputs": [],
   "source": [
    "#cities = ['austin', 'dearborn', 'miami', 'palo-alto', 'pittsburgh', 'washington-dc']"
   ]
  },
  {
   "cell_type": "code",
   "execution_count": 77,
   "metadata": {},
   "outputs": [
    {
     "data": {
      "image/png": "[encoded data removed]",
      "text/plain": [
       "<Figure size 1152x432 with 4 Axes>"
      ]
     },
     "metadata": {
      "needs_background": "light"
     },
     "output_type": "display_data"
    }
   ],
   "source": [
    "#output the distribution for all cities if True\n",
    "plot_heatmap('washington-dc', True)"
   ]
  },
  {
   "cell_type": "markdown",
   "metadata": {},
   "source": []
  },
  {
   "cell_type": "code",
   "execution_count": null,
   "metadata": {},
   "outputs": [],
   "source": [
    "import math\n",
    "def get_velocity(city, all_cities=False):\n",
    "    cities = ['austin', 'dearborn', 'miami', 'palo-alto', 'pittsburgh', 'washington-dc']\n",
    "    ROOT_PATH = \"./argo2/\"\n",
    "    \n",
    "    changes_input = []\n",
    "    changes_output = []\n",
    "\n",
    "    def get_data(city):\n",
    "        \n",
    "        f_in = ROOT_PATH + \"train/\" + city + \"_inputs\"\n",
    "        inputs = pickle.load(open(f_in, \"rb\"))\n",
    "        \n",
    "        f_out = ROOT_PATH + \"train/\" + city + \"_outputs\"\n",
    "        outputs = pickle.load(open(f_out, \"rb\"))\n",
    "        \n",
    "        for i,d in enumerate(inputs):\n",
    "            changes_input.append(math.dist(inputs[i,-1,:], inputs[i,0,:])/50)\n",
    "        for i,d in enumerate(outputs):\n",
    "            changes_output.append(math.dist(outputs[i,-1,:],outputs[i,0,:])/60)\n",
    "            \n",
    "    if all_cities == False:\n",
    "        get_data(city)\n",
    "    elif all_cities == True:\n",
    "        for c in cities:\n",
    "            get_data(c)\n",
    "            \n",
    "    plt.hist(changes_output)"
   ]
  },
  {
   "cell_type": "code",
   "execution_count": null,
   "metadata": {},
   "outputs": [],
   "source": [
    "get_velocity(\"austin\", False)"
   ]
  },
  {
   "cell_type": "code",
   "execution_count": null,
   "metadata": {},
   "outputs": [],
   "source": []
  }
 ],
 "metadata": {
  "kernelspec": {
   "display_name": "Python 3",
   "language": "python",
   "name": "python3"
  },
  "language_info": {
   "codemirror_mode": {
    "name": "ipython",
    "version": 3
   },
   "file_extension": ".py",
   "mimetype": "text/x-python",
   "name": "python",
   "nbconvert_exporter": "python",
   "pygments_lexer": "ipython3",
   "version": "3.8.5"
  }
 },
 "nbformat": 4,
 "nbformat_minor": 5
}
